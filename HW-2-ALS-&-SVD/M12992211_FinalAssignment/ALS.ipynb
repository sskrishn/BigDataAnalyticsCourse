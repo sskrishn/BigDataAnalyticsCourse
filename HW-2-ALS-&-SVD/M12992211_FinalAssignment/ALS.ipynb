{
 "cells": [
  {
   "cell_type": "code",
   "execution_count": 41,
   "metadata": {},
   "outputs": [],
   "source": [
    "from scipy.sparse import rand\n",
    "import numpy as np\n",
    "import scipy\n",
    "import matplotlib.pyplot as plt"
   ]
  },
  {
   "cell_type": "markdown",
   "metadata": {},
   "source": [
    "## Data Generation\n",
    "##### 1a) Here I have used random.choice method to generate ratings 1 to7 in equal distribution in such a way that 200 out of 500 will be having ratings from 1 to 7. Considering empty ratings as 0 and so it's distribution is 0.6 which accumulates for 300 entries out of 500 with random seed"
   ]
  },
  {
   "cell_type": "code",
   "execution_count": 2,
   "metadata": {},
   "outputs": [
    {
     "data": {
      "text/plain": [
       "201"
      ]
     },
     "execution_count": 2,
     "metadata": {},
     "output_type": "execute_result"
    }
   ],
   "source": [
    "data = np.random.RandomState(43).choice([0,1,2,3,4,5,6,7],500,p=[0.6,.4/7,.4/7,.4/7,.4/7,.4/7,.4/7,.4/7])\n",
    "len(data)\n",
    "np.count_nonzero(data)"
   ]
  },
  {
   "cell_type": "code",
   "execution_count": 3,
   "metadata": {},
   "outputs": [
    {
     "data": {
      "text/plain": [
       "array([[0, 1, 0, 0, 0, 5, 2, 0, 0, 3, 0, 4, 0, 0, 5, 0, 0, 0, 0, 5],\n",
       "       [5, 7, 0, 7, 0, 2, 0, 6, 0, 0, 0, 0, 0, 1, 7, 6, 6, 0, 0, 0],\n",
       "       [7, 0, 5, 2, 1, 0, 6, 0, 0, 7, 3, 0, 0, 0, 3, 0, 2, 2, 1, 0],\n",
       "       [0, 0, 4, 0, 1, 0, 0, 0, 0, 0, 0, 0, 3, 3, 2, 0, 7, 0, 6, 0],\n",
       "       [0, 7, 7, 0, 0, 0, 0, 0, 0, 1, 5, 5, 7, 3, 0, 0, 6, 0, 0, 1],\n",
       "       [0, 0, 0, 0, 3, 3, 6, 4, 0, 6, 0, 5, 6, 5, 0, 0, 0, 2, 0, 0],\n",
       "       [1, 0, 3, 0, 0, 0, 7, 2, 0, 0, 0, 3, 6, 0, 0, 3, 0, 0, 4, 0],\n",
       "       [0, 0, 0, 0, 0, 0, 0, 0, 0, 0, 5, 0, 4, 0, 0, 6, 2, 7, 0, 0],\n",
       "       [7, 0, 0, 6, 0, 0, 6, 0, 7, 7, 0, 0, 7, 7, 0, 0, 0, 2, 1, 2],\n",
       "       [7, 2, 0, 0, 0, 4, 0, 0, 2, 0, 1, 0, 4, 0, 0, 5, 7, 0, 0, 7],\n",
       "       [7, 6, 5, 0, 0, 0, 0, 6, 1, 7, 2, 0, 0, 0, 0, 0, 0, 2, 0, 0],\n",
       "       [0, 1, 0, 2, 0, 0, 0, 0, 5, 0, 0, 0, 0, 6, 0, 4, 5, 0, 0, 4],\n",
       "       [0, 0, 0, 0, 0, 0, 6, 0, 0, 0, 2, 3, 0, 0, 0, 7, 4, 7, 6, 0],\n",
       "       [0, 1, 0, 0, 0, 0, 0, 7, 0, 2, 0, 0, 0, 0, 0, 0, 4, 0, 6, 0],\n",
       "       [4, 5, 0, 1, 4, 6, 0, 4, 0, 0, 0, 0, 1, 0, 0, 7, 0, 0, 4, 0],\n",
       "       [0, 0, 0, 0, 0, 6, 7, 0, 2, 0, 3, 4, 0, 0, 7, 2, 3, 1, 0, 0],\n",
       "       [0, 4, 7, 0, 0, 0, 7, 1, 0, 7, 3, 0, 0, 1, 7, 4, 3, 3, 0, 0],\n",
       "       [1, 0, 0, 0, 6, 0, 0, 0, 2, 0, 0, 0, 5, 3, 0, 1, 0, 0, 0, 0],\n",
       "       [6, 0, 4, 1, 4, 0, 0, 0, 0, 0, 0, 2, 2, 0, 0, 6, 0, 0, 0, 1],\n",
       "       [0, 0, 0, 0, 0, 0, 0, 2, 4, 3, 0, 0, 0, 6, 3, 2, 0, 0, 0, 7],\n",
       "       [0, 5, 4, 0, 6, 6, 5, 0, 0, 0, 0, 0, 5, 0, 0, 4, 0, 4, 0, 4],\n",
       "       [0, 0, 0, 0, 1, 3, 6, 0, 6, 7, 0, 0, 7, 4, 0, 2, 5, 0, 0, 0],\n",
       "       [0, 0, 0, 0, 0, 0, 0, 4, 0, 7, 0, 0, 7, 5, 7, 7, 0, 0, 0, 0],\n",
       "       [4, 2, 0, 6, 0, 0, 0, 0, 1, 4, 0, 0, 0, 4, 0, 7, 0, 0, 0, 0],\n",
       "       [4, 1, 6, 7, 4, 0, 7, 3, 3, 0, 0, 0, 0, 0, 4, 0, 0, 0, 0, 0]])"
      ]
     },
     "execution_count": 3,
     "metadata": {},
     "output_type": "execute_result"
    }
   ],
   "source": [
    "data.resize(25,20)\n",
    "data"
   ]
  },
  {
   "cell_type": "markdown",
   "metadata": {},
   "source": [
    "##### Data in Tabular form (default index and column names)"
   ]
  },
  {
   "cell_type": "code",
   "execution_count": 4,
   "metadata": {},
   "outputs": [
    {
     "name": "stdout",
     "output_type": "stream",
     "text": [
      "    0   1   2   3   4   5   6   7   8   9   10  11  12  13  14  15  16  17  \\\n",
      "0    0   1   0   0   0   5   2   0   0   3   0   4   0   0   5   0   0   0   \n",
      "1    5   7   0   7   0   2   0   6   0   0   0   0   0   1   7   6   6   0   \n",
      "2    7   0   5   2   1   0   6   0   0   7   3   0   0   0   3   0   2   2   \n",
      "3    0   0   4   0   1   0   0   0   0   0   0   0   3   3   2   0   7   0   \n",
      "4    0   7   7   0   0   0   0   0   0   1   5   5   7   3   0   0   6   0   \n",
      "5    0   0   0   0   3   3   6   4   0   6   0   5   6   5   0   0   0   2   \n",
      "6    1   0   3   0   0   0   7   2   0   0   0   3   6   0   0   3   0   0   \n",
      "7    0   0   0   0   0   0   0   0   0   0   5   0   4   0   0   6   2   7   \n",
      "8    7   0   0   6   0   0   6   0   7   7   0   0   7   7   0   0   0   2   \n",
      "9    7   2   0   0   0   4   0   0   2   0   1   0   4   0   0   5   7   0   \n",
      "10   7   6   5   0   0   0   0   6   1   7   2   0   0   0   0   0   0   2   \n",
      "11   0   1   0   2   0   0   0   0   5   0   0   0   0   6   0   4   5   0   \n",
      "12   0   0   0   0   0   0   6   0   0   0   2   3   0   0   0   7   4   7   \n",
      "13   0   1   0   0   0   0   0   7   0   2   0   0   0   0   0   0   4   0   \n",
      "14   4   5   0   1   4   6   0   4   0   0   0   0   1   0   0   7   0   0   \n",
      "15   0   0   0   0   0   6   7   0   2   0   3   4   0   0   7   2   3   1   \n",
      "16   0   4   7   0   0   0   7   1   0   7   3   0   0   1   7   4   3   3   \n",
      "17   1   0   0   0   6   0   0   0   2   0   0   0   5   3   0   1   0   0   \n",
      "18   6   0   4   1   4   0   0   0   0   0   0   2   2   0   0   6   0   0   \n",
      "19   0   0   0   0   0   0   0   2   4   3   0   0   0   6   3   2   0   0   \n",
      "20   0   5   4   0   6   6   5   0   0   0   0   0   5   0   0   4   0   4   \n",
      "21   0   0   0   0   1   3   6   0   6   7   0   0   7   4   0   2   5   0   \n",
      "22   0   0   0   0   0   0   0   4   0   7   0   0   7   5   7   7   0   0   \n",
      "23   4   2   0   6   0   0   0   0   1   4   0   0   0   4   0   7   0   0   \n",
      "24   4   1   6   7   4   0   7   3   3   0   0   0   0   0   4   0   0   0   \n",
      "\n",
      "    18  19  \n",
      "0    0   5  \n",
      "1    0   0  \n",
      "2    1   0  \n",
      "3    6   0  \n",
      "4    0   1  \n",
      "5    0   0  \n",
      "6    4   0  \n",
      "7    0   0  \n",
      "8    1   2  \n",
      "9    0   7  \n",
      "10   0   0  \n",
      "11   0   4  \n",
      "12   6   0  \n",
      "13   6   0  \n",
      "14   4   0  \n",
      "15   0   0  \n",
      "16   0   0  \n",
      "17   0   0  \n",
      "18   0   1  \n",
      "19   0   7  \n",
      "20   0   4  \n",
      "21   0   0  \n",
      "22   0   0  \n",
      "23   0   0  \n",
      "24   0   0  \n"
     ]
    }
   ],
   "source": [
    "from pandas import *\n",
    "print(DataFrame(data))"
   ]
  },
  {
   "cell_type": "markdown",
   "metadata": {},
   "source": [
    "* As data contains 201 non-zero elements making one element as 0 so that data will have exactly 200 non-zero ratings"
   ]
  },
  {
   "cell_type": "code",
   "execution_count": 5,
   "metadata": {},
   "outputs": [],
   "source": [
    "data[24][3]=0"
   ]
  },
  {
   "cell_type": "markdown",
   "metadata": {},
   "source": [
    "#### Checking each row and each column is having atleast 3 non-zero or rating between 1 to 7"
   ]
  },
  {
   "cell_type": "code",
   "execution_count": 6,
   "metadata": {},
   "outputs": [
    {
     "name": "stdout",
     "output_type": "stream",
     "text": [
      "[11 12  9  7  9  8 11 10 10 12  8  7 13 12  9 16 12  9  7  8]\n",
      "[ 7  9 11  7  9  9  8  5 10  9  8  7  7  5  9  9 11  6  8  7  9  9  6  7\n",
      "  8]\n"
     ]
    }
   ],
   "source": [
    "columns1 = (data != 0).sum(0)\n",
    "rows1    = (data != 0).sum(1)\n",
    "print(columns1)\n",
    "print(rows1)"
   ]
  },
  {
   "cell_type": "code",
   "execution_count": 7,
   "metadata": {},
   "outputs": [
    {
     "name": "stdout",
     "output_type": "stream",
     "text": [
      "Sparsity:  40.0\n"
     ]
    }
   ],
   "source": [
    "sparsity = float(len(data.nonzero()[0]))\n",
    "sparsity /= (data.shape[0] * data.shape[1])\n",
    "sparsity *= 100\n",
    "print('Sparsity: ',format(sparsity))"
   ]
  },
  {
   "cell_type": "code",
   "execution_count": 8,
   "metadata": {},
   "outputs": [],
   "source": [
    "def train_test_split(ratings,seed):\n",
    "    test = np.zeros(ratings.shape)\n",
    "    train = ratings.copy()\n",
    "    for user in range(ratings.shape[0]):\n",
    "        test_ratings = np.random.RandomState(seed).choice(ratings[user, :].nonzero()[0], \n",
    "                                        size=10)\n",
    "        train[user, test_ratings] = 0\n",
    "        test[user, test_ratings] = ratings[user, test_ratings]\n",
    "        \n",
    "    # Test and training are truly disjoint\n",
    "    assert(np.all((train * test) == 0)) \n",
    "    return train, test"
   ]
  },
  {
   "cell_type": "markdown",
   "metadata": {},
   "source": [
    "#### 1b) Randomly selecting 150 of the 200 ratings as the training dataset and the remaining 50 as the test dataset."
   ]
  },
  {
   "cell_type": "code",
   "execution_count": 9,
   "metadata": {},
   "outputs": [],
   "source": [
    "ts1,tr1=train_test_split(data,44)"
   ]
  },
  {
   "cell_type": "code",
   "execution_count": 10,
   "metadata": {},
   "outputs": [
    {
     "data": {
      "text/plain": [
       "50"
      ]
     },
     "execution_count": 10,
     "metadata": {},
     "output_type": "execute_result"
    }
   ],
   "source": [
    "np.count_nonzero(ts1)"
   ]
  },
  {
   "cell_type": "code",
   "execution_count": 11,
   "metadata": {},
   "outputs": [
    {
     "data": {
      "text/plain": [
       "150"
      ]
     },
     "execution_count": 11,
     "metadata": {},
     "output_type": "execute_result"
    }
   ],
   "source": [
    "np.count_nonzero(tr1)"
   ]
  },
  {
   "cell_type": "code",
   "execution_count": 12,
   "metadata": {},
   "outputs": [
    {
     "name": "stdout",
     "output_type": "stream",
     "text": [
      "[11 12  7  3  8  7  6  9  8 10  5  6  6  7  7 10 11  8  5  4]\n",
      "[6 6 7 6 6 6 6 5 6 6 6 6 6 5 6 6 7 6 6 6 6 6 6 6 6]\n"
     ]
    }
   ],
   "source": [
    "columns1 = (tr1 != 0).sum(0)\n",
    "rows1    = (tr1 != 0).sum(1)\n",
    "print(columns1)\n",
    "print(rows1)"
   ]
  },
  {
   "cell_type": "code",
   "execution_count": 13,
   "metadata": {},
   "outputs": [
    {
     "name": "stdout",
     "output_type": "stream",
     "text": [
      "[0 0 2 4 1 1 5 1 2 2 3 1 7 5 2 6 1 1 2 4]\n",
      "[1 3 4 1 3 3 2 0 4 3 2 1 1 0 3 3 4 0 2 1 3 3 0 1 2]\n"
     ]
    }
   ],
   "source": [
    "columns1 = (ts1 != 0).sum(0)\n",
    "rows1    = (ts1 != 0).sum(1)\n",
    "print(columns1)\n",
    "print(rows1)"
   ]
  },
  {
   "cell_type": "markdown",
   "metadata": {},
   "source": [
    "#### Test Data in tabular form"
   ]
  },
  {
   "cell_type": "code",
   "execution_count": 14,
   "metadata": {},
   "outputs": [
    {
     "name": "stdout",
     "output_type": "stream",
     "text": [
      "    0   1   2   3   4   5   6   7   8   9   10  11  12  13  14  15  16  17  \\\n",
      "0    0   0   0   0   0   0   0   0   0   0   0   0   0   0   0   0   0   0   \n",
      "1    0   0   0   7   0   0   0   0   0   0   0   0   0   1   7   0   0   0   \n",
      "2    0   0   0   2   0   0   0   0   0   7   3   0   0   0   0   0   0   2   \n",
      "3    0   0   0   0   0   0   0   0   0   0   0   0   0   0   0   0   0   0   \n",
      "4    0   0   0   0   0   0   0   0   0   1   0   0   7   3   0   0   0   0   \n",
      "5    0   0   0   0   0   0   6   0   0   0   0   5   6   0   0   0   0   0   \n",
      "6    0   0   0   0   0   0   7   0   0   0   0   0   0   0   0   3   0   0   \n",
      "7    0   0   0   0   0   0   0   0   0   0   0   0   0   0   0   0   0   0   \n",
      "8    0   0   0   0   0   0   6   0   0   0   0   0   7   7   0   0   0   0   \n",
      "9    0   0   0   0   0   4   0   0   0   0   0   0   4   0   0   5   0   0   \n",
      "10   0   0   5   0   0   0   0   0   0   0   2   0   0   0   0   0   0   0   \n",
      "11   0   0   0   0   0   0   0   0   0   0   0   0   0   0   0   0   0   0   \n",
      "12   0   0   0   0   0   0   0   0   0   0   0   0   0   0   0   0   0   0   \n",
      "13   0   0   0   0   0   0   0   0   0   0   0   0   0   0   0   0   0   0   \n",
      "14   0   0   0   1   0   0   0   4   0   0   0   0   1   0   0   0   0   0   \n",
      "15   0   0   0   0   0   0   0   0   2   0   0   0   0   0   7   2   0   0   \n",
      "16   0   0   0   0   0   0   7   0   0   0   3   0   0   1   0   0   3   0   \n",
      "17   0   0   0   0   0   0   0   0   0   0   0   0   0   0   0   0   0   0   \n",
      "18   0   0   0   1   0   0   0   0   0   0   0   0   0   0   0   6   0   0   \n",
      "19   0   0   0   0   0   0   0   0   0   0   0   0   0   0   0   0   0   0   \n",
      "20   0   0   0   0   6   0   0   0   0   0   0   0   5   0   0   4   0   0   \n",
      "21   0   0   0   0   0   0   6   0   0   0   0   0   7   4   0   0   0   0   \n",
      "22   0   0   0   0   0   0   0   0   0   0   0   0   0   0   0   0   0   0   \n",
      "23   0   0   0   0   0   0   0   0   0   0   0   0   0   0   0   7   0   0   \n",
      "24   0   0   6   0   0   0   0   0   3   0   0   0   0   0   0   0   0   0   \n",
      "\n",
      "    18  19  \n",
      "0    0   5  \n",
      "1    0   0  \n",
      "2    0   0  \n",
      "3    6   0  \n",
      "4    0   0  \n",
      "5    0   0  \n",
      "6    0   0  \n",
      "7    0   0  \n",
      "8    0   2  \n",
      "9    0   0  \n",
      "10   0   0  \n",
      "11   0   4  \n",
      "12   6   0  \n",
      "13   0   0  \n",
      "14   0   0  \n",
      "15   0   0  \n",
      "16   0   0  \n",
      "17   0   0  \n",
      "18   0   0  \n",
      "19   0   7  \n",
      "20   0   0  \n",
      "21   0   0  \n",
      "22   0   0  \n",
      "23   0   0  \n",
      "24   0   0  \n"
     ]
    }
   ],
   "source": [
    "print(DataFrame(ts1))"
   ]
  },
  {
   "cell_type": "markdown",
   "metadata": {},
   "source": [
    "#### Train Data in tabular form"
   ]
  },
  {
   "cell_type": "code",
   "execution_count": 15,
   "metadata": {},
   "outputs": [
    {
     "name": "stdout",
     "output_type": "stream",
     "text": [
      "     0    1    2    3    4    5    6    7    8    9    10   11   12   13   14  \\\n",
      "0   0.0  1.0  0.0  0.0  0.0  5.0  2.0  0.0  0.0  3.0  0.0  4.0  0.0  0.0  5.0   \n",
      "1   5.0  7.0  0.0  0.0  0.0  2.0  0.0  6.0  0.0  0.0  0.0  0.0  0.0  0.0  0.0   \n",
      "2   7.0  0.0  5.0  0.0  1.0  0.0  6.0  0.0  0.0  0.0  0.0  0.0  0.0  0.0  3.0   \n",
      "3   0.0  0.0  4.0  0.0  1.0  0.0  0.0  0.0  0.0  0.0  0.0  0.0  3.0  3.0  2.0   \n",
      "4   0.0  7.0  7.0  0.0  0.0  0.0  0.0  0.0  0.0  0.0  5.0  5.0  0.0  0.0  0.0   \n",
      "5   0.0  0.0  0.0  0.0  3.0  3.0  0.0  4.0  0.0  6.0  0.0  0.0  0.0  5.0  0.0   \n",
      "6   1.0  0.0  3.0  0.0  0.0  0.0  0.0  2.0  0.0  0.0  0.0  3.0  6.0  0.0  0.0   \n",
      "7   0.0  0.0  0.0  0.0  0.0  0.0  0.0  0.0  0.0  0.0  5.0  0.0  4.0  0.0  0.0   \n",
      "8   7.0  0.0  0.0  6.0  0.0  0.0  0.0  0.0  7.0  7.0  0.0  0.0  0.0  0.0  0.0   \n",
      "9   7.0  2.0  0.0  0.0  0.0  0.0  0.0  0.0  2.0  0.0  1.0  0.0  0.0  0.0  0.0   \n",
      "10  7.0  6.0  0.0  0.0  0.0  0.0  0.0  6.0  1.0  7.0  0.0  0.0  0.0  0.0  0.0   \n",
      "11  0.0  1.0  0.0  2.0  0.0  0.0  0.0  0.0  5.0  0.0  0.0  0.0  0.0  6.0  0.0   \n",
      "12  0.0  0.0  0.0  0.0  0.0  0.0  6.0  0.0  0.0  0.0  2.0  3.0  0.0  0.0  0.0   \n",
      "13  0.0  1.0  0.0  0.0  0.0  0.0  0.0  7.0  0.0  2.0  0.0  0.0  0.0  0.0  0.0   \n",
      "14  4.0  5.0  0.0  0.0  4.0  6.0  0.0  0.0  0.0  0.0  0.0  0.0  0.0  0.0  0.0   \n",
      "15  0.0  0.0  0.0  0.0  0.0  6.0  7.0  0.0  0.0  0.0  3.0  4.0  0.0  0.0  0.0   \n",
      "16  0.0  4.0  7.0  0.0  0.0  0.0  0.0  1.0  0.0  7.0  0.0  0.0  0.0  0.0  7.0   \n",
      "17  1.0  0.0  0.0  0.0  6.0  0.0  0.0  0.0  2.0  0.0  0.0  0.0  5.0  3.0  0.0   \n",
      "18  6.0  0.0  4.0  0.0  4.0  0.0  0.0  0.0  0.0  0.0  0.0  2.0  2.0  0.0  0.0   \n",
      "19  0.0  0.0  0.0  0.0  0.0  0.0  0.0  2.0  4.0  3.0  0.0  0.0  0.0  6.0  3.0   \n",
      "20  0.0  5.0  4.0  0.0  0.0  6.0  5.0  0.0  0.0  0.0  0.0  0.0  0.0  0.0  0.0   \n",
      "21  0.0  0.0  0.0  0.0  1.0  3.0  0.0  0.0  6.0  7.0  0.0  0.0  0.0  0.0  0.0   \n",
      "22  0.0  0.0  0.0  0.0  0.0  0.0  0.0  4.0  0.0  7.0  0.0  0.0  7.0  5.0  7.0   \n",
      "23  4.0  2.0  0.0  6.0  0.0  0.0  0.0  0.0  1.0  4.0  0.0  0.0  0.0  4.0  0.0   \n",
      "24  4.0  1.0  0.0  0.0  4.0  0.0  7.0  3.0  0.0  0.0  0.0  0.0  0.0  0.0  4.0   \n",
      "\n",
      "     15   16   17   18   19  \n",
      "0   0.0  0.0  0.0  0.0  0.0  \n",
      "1   6.0  6.0  0.0  0.0  0.0  \n",
      "2   0.0  2.0  0.0  1.0  0.0  \n",
      "3   0.0  7.0  0.0  0.0  0.0  \n",
      "4   0.0  6.0  0.0  0.0  1.0  \n",
      "5   0.0  0.0  2.0  0.0  0.0  \n",
      "6   0.0  0.0  0.0  4.0  0.0  \n",
      "7   6.0  2.0  7.0  0.0  0.0  \n",
      "8   0.0  0.0  2.0  1.0  0.0  \n",
      "9   0.0  7.0  0.0  0.0  7.0  \n",
      "10  0.0  0.0  2.0  0.0  0.0  \n",
      "11  4.0  5.0  0.0  0.0  0.0  \n",
      "12  7.0  4.0  7.0  0.0  0.0  \n",
      "13  0.0  4.0  0.0  6.0  0.0  \n",
      "14  7.0  0.0  0.0  4.0  0.0  \n",
      "15  0.0  3.0  1.0  0.0  0.0  \n",
      "16  4.0  0.0  3.0  0.0  0.0  \n",
      "17  1.0  0.0  0.0  0.0  0.0  \n",
      "18  0.0  0.0  0.0  0.0  1.0  \n",
      "19  2.0  0.0  0.0  0.0  0.0  \n",
      "20  0.0  0.0  4.0  0.0  4.0  \n",
      "21  2.0  5.0  0.0  0.0  0.0  \n",
      "22  7.0  0.0  0.0  0.0  0.0  \n",
      "23  0.0  0.0  0.0  0.0  0.0  \n",
      "24  0.0  0.0  0.0  0.0  0.0  \n"
     ]
    }
   ],
   "source": [
    "print(DataFrame(tr1))"
   ]
  },
  {
   "cell_type": "markdown",
   "metadata": {},
   "source": [
    "#### Functions to implement Matrix factorisation using Alternating Least Squares and SGD "
   ]
  },
  {
   "cell_type": "markdown",
   "metadata": {},
   "source": [
    "#### Note:\n",
    "    * From link -http://www.diva-portal.se/smash/get/diva2:929350/FULLTEXT01.pdf, to solve for the solution of problem (2.2) one can fix either P or Q for the optimal solution.\n",
    "    * Both ALS and SGD starts by initializing Q and P with random values, thus the results will not be the same when running multiple times.\n",
    "    * ALS tries to solve 2.2 by alternating between holding P and Q fixed untilconvergence. By doing so the iterations are able to run independently which can potentially speed up the computations by using multiple cores.\n",
    "    * In SGD, for each iteration pick a random rating Su,i and update Q and P according to these formulae of eq 2.5 & 2.6.\n",
    "    * Hyperparameter       | SGD                 | ALS\n",
    "    -----------------------------------------------------------\n",
    "      Learning rate        | Between1 0.02 – 0.06| Unsupported\n",
    "      Linear regularization| 1e-10               |1e-10  \n",
    "      Regularization(⁄)    | 1e-8                |1e-8\n",
    "    "
   ]
  },
  {
   "cell_type": "code",
   "execution_count": 20,
   "metadata": {},
   "outputs": [],
   "source": [
    "#np.transpose(np.nonzero(ts1))\n",
    "from numpy.linalg import solve\n",
    "\n",
    "class ExplicitMF():\n",
    "    def __init__(self, \n",
    "                 ratings,\n",
    "                 n_factors=40,\n",
    "                 learning='sgd',\n",
    "                 item_fact_reg=0.0, \n",
    "                 user_fact_reg=0.0,\n",
    "                 item_bias_reg=0.0,\n",
    "                 user_bias_reg=0.0,\n",
    "                 verbose=False):\n",
    "        \"\"\"\n",
    "        Train a matrix factorization model to predict empty \n",
    "        entries in a matrix. The terminology assumes a \n",
    "        ratings matrix which is ~ user x item\n",
    "        \n",
    "        Params\n",
    "        ======\n",
    "        ratings : (ndarray)\n",
    "            User x Item matrix with corresponding ratings\n",
    "        \n",
    "        n_factors : (int)\n",
    "            Number of latent factors to use in matrix \n",
    "            factorization model\n",
    "        learning : (str)\n",
    "            Method of optimization. Options include \n",
    "            'sgd' or 'als'.\n",
    "        \n",
    "        item_fact_reg : (float)\n",
    "            Regularization term for item latent factors\n",
    "        \n",
    "        user_fact_reg : (float)\n",
    "            Regularization term for user latent factors\n",
    "            \n",
    "        item_bias_reg : (float)\n",
    "            Regularization term for item biases\n",
    "        \n",
    "        user_bias_reg : (float)\n",
    "            Regularization term for user biases\n",
    "        \n",
    "        verbose : (bool)\n",
    "            Whether or not to printout training progress\n",
    "        \"\"\"\n",
    "        \n",
    "        self.ratings = ratings\n",
    "        self.n_users, self.n_items = ratings.shape\n",
    "        self.n_factors = n_factors\n",
    "        self.item_fact_reg = item_fact_reg\n",
    "        self.user_fact_reg = user_fact_reg\n",
    "        self.item_bias_reg = item_bias_reg\n",
    "        self.user_bias_reg = user_bias_reg\n",
    "        self.learning = learning\n",
    "        if self.learning == 'sgd':\n",
    "            self.sample_row, self.sample_col = self.ratings.nonzero()\n",
    "            self.n_samples = len(self.sample_row)\n",
    "        self._v = verbose\n",
    "\n",
    "    def als_step(self,\n",
    "                 latent_vectors,\n",
    "                 fixed_vecs,\n",
    "                 ratings,\n",
    "                 _lambda,\n",
    "                 type='user'):\n",
    "        \"\"\"\n",
    "        One of the two ALS steps. Solve for the latent vectors\n",
    "        specified by type.\n",
    "        \"\"\"\n",
    "        if type == 'user':\n",
    "            # Precompute\n",
    "            YTY = fixed_vecs.T.dot(fixed_vecs)\n",
    "            lambdaI = np.eye(YTY.shape[0]) * _lambda\n",
    "\n",
    "            for u in range(latent_vectors.shape[0]):\n",
    "                latent_vectors[u, :] = solve((YTY + lambdaI), \n",
    "                                             ratings[u, :].dot(fixed_vecs))\n",
    "        elif type == 'item':\n",
    "            # Precompute\n",
    "            XTX = fixed_vecs.T.dot(fixed_vecs)\n",
    "            lambdaI = np.eye(XTX.shape[0]) * _lambda\n",
    "            \n",
    "            for i in range(latent_vectors.shape[0]):\n",
    "                latent_vectors[i, :] = solve((XTX + lambdaI), \n",
    "                                             ratings[:, i].T.dot(fixed_vecs))\n",
    "        return latent_vectors\n",
    "\n",
    "    def train(self, n_iter=10, learning_rate=0.1):\n",
    "        \"\"\" Train model for n_iter iterations from scratch.\"\"\"\n",
    "        # initialize latent vectors        \n",
    "        self.user_vecs = np.random.normal(scale=1./self.n_factors,\\\n",
    "                                          size=(self.n_users, self.n_factors))\n",
    "        self.item_vecs = np.random.normal(scale=1./self.n_factors,\n",
    "                                          size=(self.n_items, self.n_factors))\n",
    "        \n",
    "        if self.learning == 'als':\n",
    "            self.partial_train(n_iter)\n",
    "        elif self.learning == 'sgd':\n",
    "            self.learning_rate = learning_rate\n",
    "            self.user_bias = np.zeros(self.n_users)\n",
    "            self.item_bias = np.zeros(self.n_items)\n",
    "            self.global_bias = np.mean(self.ratings[np.where(self.ratings != 0)])\n",
    "            self.partial_train(n_iter)\n",
    "    \n",
    "    \n",
    "    def partial_train(self, n_iter):\n",
    "        \"\"\" \n",
    "        Train model for n_iter iterations. Can be \n",
    "        called multiple times for further training.\n",
    "        \"\"\"\n",
    "        ctr = 1\n",
    "        while ctr <= n_iter:\n",
    "            if ctr % 10 == 0 and self._v:\n",
    "                print('\\tcurrent iteration:'+str(ctr))\n",
    "            if self.learning == 'als':\n",
    "                self.user_vecs = self.als_step(self.user_vecs, \n",
    "                                               self.item_vecs, \n",
    "                                               self.ratings, \n",
    "                                               self.user_fact_reg, \n",
    "                                               type='user')\n",
    "                self.item_vecs = self.als_step(self.item_vecs, \n",
    "                                               self.user_vecs, \n",
    "                                               self.ratings, \n",
    "                                               self.item_fact_reg, \n",
    "                                               type='item')\n",
    "            elif self.learning == 'sgd':\n",
    "                self.training_indices = np.arange(self.n_samples)\n",
    "                np.random.shuffle(self.training_indices)\n",
    "                self.sgd()\n",
    "            ctr += 1\n",
    "\n",
    "    def sgd(self):\n",
    "        for idx in self.training_indices:\n",
    "            u = self.sample_row[idx]\n",
    "            i = self.sample_col[idx]\n",
    "            prediction = self.predict(u, i)\n",
    "            e = (self.ratings[u,i] - prediction) # error\n",
    "            \n",
    "            # Update biases\n",
    "            self.user_bias[u] += self.learning_rate * \\\n",
    "                                (e - self.user_bias_reg * self.user_bias[u])\n",
    "            self.item_bias[i] += self.learning_rate * \\\n",
    "                                (e - self.item_bias_reg * self.item_bias[i])\n",
    "            \n",
    "            #Update latent factors\n",
    "            self.user_vecs[u, :] += self.learning_rate * \\\n",
    "                                    (e * self.item_vecs[i, :] - \\\n",
    "                                     self.user_fact_reg * self.user_vecs[u,:])\n",
    "            self.item_vecs[i, :] += self.learning_rate * \\\n",
    "                                    (e * self.user_vecs[u, :] - \\\n",
    "                                     self.item_fact_reg * self.item_vecs[i,:])\n",
    "    def predict(self, u, i):\n",
    "        \"\"\" Single user and item prediction.\"\"\"\n",
    "        if self.learning == 'als':\n",
    "            return self.user_vecs[u, :].dot(self.item_vecs[i, :].T)\n",
    "        elif self.learning == 'sgd':\n",
    "            prediction = self.global_bias + self.user_bias[u] + self.item_bias[i]\n",
    "            prediction += self.user_vecs[u, :].dot(self.item_vecs[i, :].T)\n",
    "            return prediction\n",
    "    \n",
    "    def predict_all(self):\n",
    "        \"\"\" Predict ratings for every user and item.\"\"\"\n",
    "        predictions = np.zeros((self.user_vecs.shape[0], \n",
    "                                self.item_vecs.shape[0]))\n",
    "        for u in range(self.user_vecs.shape[0]):\n",
    "            for i in range(self.item_vecs.shape[0]):\n",
    "                predictions[u, i] = self.predict(u, i)\n",
    "                \n",
    "        return predictions\n",
    "    \n",
    "    def calculate_learning_curve(self, iter_array, test, learning_rate=0.1):\n",
    "        \"\"\"\n",
    "        Keep track of MSE as a function of training iterations.\n",
    "        \n",
    "        Params\n",
    "        ======\n",
    "        iter_array : (list)\n",
    "            List of numbers of iterations to train for each step of \n",
    "            the learning curve. e.g. [1, 5, 10, 20]\n",
    "        test : (2D ndarray)\n",
    "            Testing dataset (assumed to be user x item).\n",
    "        \n",
    "        The function creates two new class attributes:\n",
    "        \n",
    "        train_mse : (list)\n",
    "            Training data MSE values for each value of iter_array\n",
    "        test_mse : (list)\n",
    "            Test data MSE values for each value of iter_array\n",
    "        \"\"\"\n",
    "        iter_array.sort()\n",
    "        self.train_mse =[]\n",
    "        self.test_mse = []\n",
    "        iter_diff = 0\n",
    "        for (i, n_iter) in enumerate(iter_array):\n",
    "            if self._v:\n",
    "                print('Iteration:='+str(n_iter))\n",
    "            if i == 0:\n",
    "                self.train(n_iter - iter_diff, learning_rate)\n",
    "            else:\n",
    "                self.partial_train(n_iter - iter_diff)\n",
    "\n",
    "            predictions = self.predict_all()\n",
    "\n",
    "            self.train_mse += [get_mse(predictions, self.ratings)]\n",
    "            self.test_mse += [get_mse(predictions, test)]\n",
    "            if self._v:\n",
    "                print('Train mse: ' + str(self.train_mse[-1]))\n",
    "                print('Test  mse: ' + str(self.test_mse[-1]))\n",
    "            iter_diff = n_iter"
   ]
  },
  {
   "cell_type": "code",
   "execution_count": 21,
   "metadata": {},
   "outputs": [],
   "source": [
    "from sklearn.metrics import mean_squared_error\n",
    "\n",
    "def get_mse(pred, actual):\n",
    "    # Ignore nonzero terms.\n",
    "    pred = pred[actual.nonzero()].flatten()\n",
    "    actual = actual[actual.nonzero()].flatten()\n",
    "    return mean_squared_error(pred, actual)\n",
    "\n",
    "%matplotlib inline\n",
    "import matplotlib.pyplot as plt\n",
    "import seaborn as sns\n",
    "sns.set()\n",
    "\n",
    "def plot_learning_curve(iter_array, model):\n",
    "    plt.plot(iter_array, model.train_mse, \\\n",
    "             label='Training', linewidth=5)\n",
    "    plt.plot(iter_array, model.test_mse, \\\n",
    "             label='Test', linewidth=5)\n",
    "\n",
    "    plt.xticks(fontsize=16);\n",
    "    plt.yticks(fontsize=16);\n",
    "    plt.xlabel('iterations', fontsize=20);\n",
    "    plt.ylabel('(total ratings including zeros) MSE', fontsize=20);\n",
    "    plt.legend(loc='best', fontsize=10);"
   ]
  },
  {
   "cell_type": "markdown",
   "metadata": {},
   "source": [
    "#### 1c) To find a matrix factorization of the training data and include only two latent factors Using ALS without regularization"
   ]
  },
  {
   "cell_type": "code",
   "execution_count": 22,
   "metadata": {},
   "outputs": [
    {
     "name": "stdout",
     "output_type": "stream",
     "text": [
      "Iteration:=1\n",
      "Train mse: 14.583764881645214\n",
      "Test  mse: 23.625956435732075\n",
      "Iteration:=5\n",
      "Train mse: 8.55528494292431\n",
      "Test  mse: 18.168304550631145\n",
      "Iteration:=50\n",
      "\tcurrent iteration:10\n",
      "\tcurrent iteration:20\n",
      "\tcurrent iteration:30\n",
      "\tcurrent iteration:40\n",
      "Train mse: 8.579917562079256\n",
      "Test  mse: 18.554979109898692\n",
      "Iteration:=100\n",
      "\tcurrent iteration:10\n",
      "\tcurrent iteration:20\n",
      "\tcurrent iteration:30\n",
      "\tcurrent iteration:40\n",
      "\tcurrent iteration:50\n",
      "Train mse: 8.57991971138061\n",
      "Test  mse: 18.554988356364504\n",
      "Iteration:=200\n",
      "\tcurrent iteration:10\n",
      "\tcurrent iteration:20\n",
      "\tcurrent iteration:30\n",
      "\tcurrent iteration:40\n",
      "\tcurrent iteration:50\n",
      "\tcurrent iteration:60\n",
      "\tcurrent iteration:70\n",
      "\tcurrent iteration:80\n",
      "\tcurrent iteration:90\n",
      "\tcurrent iteration:100\n",
      "Train mse: 8.579919711399462\n",
      "Test  mse: 18.554988356445598\n"
     ]
    }
   ],
   "source": [
    "MF_ALS = ExplicitMF(tr1, 2, learning='als', verbose=True)\n",
    "iter_array1 = [1, 5, 50, 100, 200]\n",
    "MF_ALS.calculate_learning_curve(iter_array1, ts1, learning_rate=0.01)"
   ]
  },
  {
   "cell_type": "code",
   "execution_count": 23,
   "metadata": {},
   "outputs": [
    {
     "data": {
      "image/png": "[encoded data removed]",
      "text/plain": [
       "<Figure size 432x288 with 1 Axes>"
      ]
     },
     "metadata": {},
     "output_type": "display_data"
    }
   ],
   "source": [
    "plot_learning_curve(iter_array1, MF_ALS)"
   ]
  },
  {
   "cell_type": "markdown",
   "metadata": {},
   "source": [
    "#### 1d) Calculating MSE  by considering only test data and also considering only non-zero elements of that test data"
   ]
  },
  {
   "cell_type": "code",
   "execution_count": 35,
   "metadata": {},
   "outputs": [
    {
     "name": "stdout",
     "output_type": "stream",
     "text": [
      "TEST DATA Ratings MSE Using ALS without regularization 18.55587\n"
     ]
    }
   ],
   "source": [
    "list1_org=[]\n",
    "list2_pred=[]\n",
    "predictions = np.zeros((len(ts1), len(ts1[0])),dtype=object)\n",
    "ts1_pred=ts1.copy();\n",
    "for u in range(len(ts1)):\n",
    "    for i in range(len(ts1[0])):\n",
    "        if ts1[u][i]!=0:\n",
    "            list1_org.append(round(MF_ALS.predict(u,i),2))\n",
    "            list2_pred.append(ts1[u][i])\n",
    "            predictions[u][i]=str(ts1[u][i])+' | '+str(round(MF_ALS.predict(u,i),2))\n",
    "print(\"TEST DATA Ratings MSE Using ALS without regularization \"+str(mean_squared_error(list2_pred,list1_org)))"
   ]
  },
  {
   "cell_type": "markdown",
   "metadata": {},
   "source": [
    "#### 1d) Printing predictions and original ratings of non-zero ratings of test data side by side (left side--> original and right side of pipe is predicted value)"
   ]
  },
  {
   "cell_type": "code",
   "execution_count": 26,
   "metadata": {},
   "outputs": [
    {
     "data": {
      "text/plain": [
       "array([[0, 0, 0, 0, 0, 0, 0, 0, 0, 0, 0, 0, 0, 0, 0, 0, 0, 0, 0,\n",
       "        '5 | 0.38'],\n",
       "       [0, 0, 0, '7 | 0.39', 0, 0, 0, 0, 0, 0, 0, 0, 0, '1 | 0.9',\n",
       "        '7 | 1.68', 0, 0, 0, 0, 0],\n",
       "       [0, 0, 0, '2 | -0.04', 0, 0, 0, 0, 0, '7 | 0.4', '3 | 1.32', 0, 0,\n",
       "        0, 0, 0, 0, '2 | 1.56', 0, 0],\n",
       "       [0, 0, 0, 0, 0, 0, 0, 0, 0, 0, 0, 0, 0, 0, 0, 0, 0, 0, '6 | 0.41',\n",
       "        0],\n",
       "       [0, 0, 0, 0, 0, 0, 0, 0, 0, '1 | -1.29', 0, 0, '7 | 0.1',\n",
       "        '3 | -0.96', 0, 0, 0, 0, 0, 0],\n",
       "       [0, 0, 0, 0, 0, 0, '6 | -0.6', 0, 0, 0, 0, '5 | -0.36',\n",
       "        '6 | 1.34', 0, 0, 0, 0, 0, 0, 0],\n",
       "       [0, 0, 0, 0, 0, 0, '7 | 0.69', 0, 0, 0, 0, 0, 0, 0, 0, '3 | 1.03',\n",
       "        0, 0, 0, 0],\n",
       "       [0, 0, 0, 0, 0, 0, 0, 0, 0, 0, 0, 0, 0, 0, 0, 0, 0, 0, 0, 0],\n",
       "       [0, 0, 0, 0, 0, 0, '6 | -0.68', 0, 0, 0, 0, 0, '7 | 1.75',\n",
       "        '7 | 3.07', 0, 0, 0, 0, 0, '2 | -0.28'],\n",
       "       [0, 0, 0, 0, 0, '4 | 1.86', 0, 0, 0, 0, 0, 0, '4 | 0.48', 0, 0,\n",
       "        '5 | 2.15', 0, 0, 0, 0],\n",
       "       [0, 0, '5 | 1.23', 0, 0, 0, 0, 0, 0, 0, '2 | 0.24', 0, 0, 0, 0, 0,\n",
       "        0, 0, 0, 0],\n",
       "       [0, 0, 0, 0, 0, 0, 0, 0, 0, 0, 0, 0, 0, 0, 0, 0, 0, 0, 0,\n",
       "        '4 | 0.21'],\n",
       "       [0, 0, 0, 0, 0, 0, 0, 0, 0, 0, 0, 0, 0, 0, 0, 0, 0, 0, '6 | 0.63',\n",
       "        0],\n",
       "       [0, 0, 0, 0, 0, 0, 0, 0, 0, 0, 0, 0, 0, 0, 0, 0, 0, 0, 0, 0],\n",
       "       [0, 0, 0, '1 | 0.28', 0, 0, 0, '4 | 1.5', 0, 0, 0, 0, '1 | 0.79',\n",
       "        0, 0, 0, 0, 0, 0, 0],\n",
       "       [0, 0, 0, 0, 0, 0, 0, 0, '2 | -0.64', 0, 0, 0, 0, 0, '7 | -0.05',\n",
       "        '2 | 1.37', 0, 0, 0, 0],\n",
       "       [0, 0, 0, 0, 0, 0, '7 | 0.89', 0, 0, 0, '3 | 0.41', 0, 0,\n",
       "        '1 | 2.33', 0, 0, '3 | 2.27', 0, 0, 0],\n",
       "       [0, 0, 0, 0, 0, 0, 0, 0, 0, 0, 0, 0, 0, 0, 0, 0, 0, 0, 0, 0],\n",
       "       [0, 0, 0, '1 | 0.12', 0, 0, 0, 0, 0, 0, 0, 0, 0, 0, 0, '6 | 1.38',\n",
       "        0, 0, 0, 0],\n",
       "       [0, 0, 0, 0, 0, 0, 0, 0, 0, 0, 0, 0, 0, 0, 0, 0, 0, 0, 0,\n",
       "        '7 | -0.39'],\n",
       "       [0, 0, 0, 0, '6 | 0.66', 0, 0, 0, 0, 0, 0, 0, '5 | 0.08', 0, 0,\n",
       "        '4 | 1.81', 0, 0, 0, 0],\n",
       "       [0, 0, 0, 0, 0, 0, '6 | 0.17', 0, 0, 0, 0, 0, '7 | 1.33',\n",
       "        '4 | 2.12', 0, 0, 0, 0, 0, 0],\n",
       "       [0, 0, 0, 0, 0, 0, 0, 0, 0, 0, 0, 0, 0, 0, 0, 0, 0, 0, 0, 0],\n",
       "       [0, 0, 0, 0, 0, 0, 0, 0, 0, 0, 0, 0, 0, 0, 0, '7 | 1.79', 0, 0, 0,\n",
       "        0],\n",
       "       [0, 0, '6 | 1.5', 0, 0, 0, 0, 0, '3 | 0.5', 0, 0, 0, 0, 0, 0, 0,\n",
       "        0, 0, 0, 0]], dtype=object)"
      ]
     },
     "execution_count": 26,
     "metadata": {},
     "output_type": "execute_result"
    }
   ],
   "source": [
    "predictions"
   ]
  },
  {
   "cell_type": "markdown",
   "metadata": {},
   "source": [
    "#### To find a matrix factorization of the training data and include only two latent factors Using ALS with regularization"
   ]
  },
  {
   "cell_type": "code",
   "execution_count": 27,
   "metadata": {},
   "outputs": [],
   "source": [
    "MF_ALS2 = ExplicitMF(tr1, n_factors=2, \\\n",
    "                    user_fact_reg=1, item_fact_reg=1)\n",
    "\n",
    "iter_array2 = [1, 2, 5, 10, 25, 50, 100]\n",
    "MF_ALS2.calculate_learning_curve(iter_array2, ts1)"
   ]
  },
  {
   "cell_type": "code",
   "execution_count": 36,
   "metadata": {},
   "outputs": [
    {
     "name": "stdout",
     "output_type": "stream",
     "text": [
      "TEST DATA Ratings MSE Using ALS with regularization 6.906573999999999\n"
     ]
    }
   ],
   "source": [
    "list1_org=[]\n",
    "list2_pred=[]\n",
    "predictions = np.zeros((len(ts1), len(ts1[0])),dtype=object)\n",
    "ts1_pred=ts1.copy();\n",
    "for u in range(len(ts1)):\n",
    "    for i in range(len(ts1[0])):\n",
    "        if ts1[u][i]!=0:\n",
    "            list1_org.append(round(MF_ALS2.predict(u,i),2))\n",
    "            list2_pred.append(ts1[u][i])\n",
    "            predictions[u][i]=str(ts1[u][i])+' | '+str(round(MF_ALS2.predict(u,i),2))\n",
    "print(\"TEST DATA Ratings MSE Using ALS with regularization \"+str(mean_squared_error(list2_pred,list1_org)))"
   ]
  },
  {
   "cell_type": "markdown",
   "metadata": {},
   "source": [
    "#### Predictions of test data using vectors obtained by considering regularization for ALS"
   ]
  },
  {
   "cell_type": "code",
   "execution_count": 30,
   "metadata": {},
   "outputs": [
    {
     "data": {
      "text/plain": [
       "array([[0, 0, 0, 0, 0, 0, 0, 0, 0, 0, 0, 0, 0, 0, 0, 0, 0, 0, 0,\n",
       "        '5 | 2.07'],\n",
       "       [0, 0, 0, '7 | 6.07', 0, 0, 0, 0, 0, 0, 0, 0, 0, '1 | 6.56',\n",
       "        '7 | 6.15', 0, 0, 0, 0, 0],\n",
       "       [0, 0, 0, '2 | 3.97', 0, 0, 0, 0, 0, '7 | 4.74', '3 | 1.54', 0, 0,\n",
       "        0, 0, 0, 0, '2 | 2.06', 0, 0],\n",
       "       [0, 0, 0, 0, 0, 0, 0, 0, 0, 0, 0, 0, 0, 0, 0, 0, 0, 0, '6 | 1.41',\n",
       "        0],\n",
       "       [0, 0, 0, 0, 0, 0, 0, 0, 0, '1 | 7.41', 0, 0, '7 | 6.19',\n",
       "        '3 | 7.34', 0, 0, 0, 0, 0, 0],\n",
       "       [0, 0, 0, 0, 0, 0, '6 | 5.54', 0, 0, 0, 0, '5 | 3.23', '6 | 4.4',\n",
       "        0, 0, 0, 0, 0, 0, 0],\n",
       "       [0, 0, 0, 0, 0, 0, '7 | 4.32', 0, 0, 0, 0, 0, 0, 0, 0, '3 | 3.24',\n",
       "        0, 0, 0, 0],\n",
       "       [0, 0, 0, 0, 0, 0, 0, 0, 0, 0, 0, 0, 0, 0, 0, 0, 0, 0, 0, 0],\n",
       "       [0, 0, 0, 0, 0, 0, '6 | 6.96', 0, 0, 0, 0, 0, '7 | 5.06',\n",
       "        '7 | 6.24', 0, 0, 0, 0, 0, '2 | 2.51'],\n",
       "       [0, 0, 0, 0, 0, '4 | 5.56', 0, 0, 0, 0, 0, 0, '4 | 6.24', 0, 0,\n",
       "        '5 | 5.16', 0, 0, 0, 0],\n",
       "       [0, 0, '5 | 5.97', 0, 0, 0, 0, 0, 0, 0, '2 | 2.84', 0, 0, 0, 0, 0,\n",
       "        0, 0, 0, 0],\n",
       "       [0, 0, 0, 0, 0, 0, 0, 0, 0, 0, 0, 0, 0, 0, 0, 0, 0, 0, 0,\n",
       "        '4 | 1.64'],\n",
       "       [0, 0, 0, 0, 0, 0, 0, 0, 0, 0, 0, 0, 0, 0, 0, 0, 0, 0, '6 | 4.36',\n",
       "        0],\n",
       "       [0, 0, 0, 0, 0, 0, 0, 0, 0, 0, 0, 0, 0, 0, 0, 0, 0, 0, 0, 0],\n",
       "       [0, 0, 0, '1 | 5.97', 0, 0, 0, '4 | 4.68', 0, 0, 0, 0, '1 | 5.79',\n",
       "        0, 0, 0, 0, 0, 0, 0],\n",
       "       [0, 0, 0, 0, 0, 0, 0, 0, '2 | 4.39', 0, 0, 0, 0, 0, '7 | 5.25',\n",
       "        '2 | 4.62', 0, 0, 0, 0],\n",
       "       [0, 0, 0, 0, 0, 0, '7 | 6.34', 0, 0, 0, '3 | 2.69', 0, 0,\n",
       "        '1 | 5.82', 0, 0, '3 | 4.67', 0, 0, 0],\n",
       "       [0, 0, 0, 0, 0, 0, 0, 0, 0, 0, 0, 0, 0, 0, 0, 0, 0, 0, 0, 0],\n",
       "       [0, 0, 0, '1 | 4.03', 0, 0, 0, 0, 0, 0, 0, 0, 0, 0, 0, '6 | 3.48',\n",
       "        0, 0, 0, 0],\n",
       "       [0, 0, 0, 0, 0, 0, 0, 0, 0, 0, 0, 0, 0, 0, 0, 0, 0, 0, 0,\n",
       "        '7 | 0.74'],\n",
       "       [0, 0, 0, 0, '6 | 4.65', 0, 0, 0, 0, 0, 0, 0, '5 | 5.65', 0, 0,\n",
       "        '4 | 5.09', 0, 0, 0, 0],\n",
       "       [0, 0, 0, 0, 0, 0, '6 | 5.62', 0, 0, 0, 0, 0, '7 | 3.85',\n",
       "        '4 | 4.94', 0, 0, 0, 0, 0, 0],\n",
       "       [0, 0, 0, 0, 0, 0, 0, 0, 0, 0, 0, 0, 0, 0, 0, 0, 0, 0, 0, 0],\n",
       "       [0, 0, 0, 0, 0, 0, 0, 0, 0, 0, 0, 0, 0, 0, 0, '7 | 3.33', 0, 0, 0,\n",
       "        0],\n",
       "       [0, 0, '6 | 4.48', 0, 0, 0, 0, 0, '3 | 3.49', 0, 0, 0, 0, 0, 0, 0,\n",
       "        0, 0, 0, 0]], dtype=object)"
      ]
     },
     "execution_count": 30,
     "metadata": {},
     "output_type": "execute_result"
    }
   ],
   "source": [
    "predictions"
   ]
  },
  {
   "cell_type": "markdown",
   "metadata": {},
   "source": [
    "#### To find a matrix factorization of the training data and include only two latent factors Using SGD"
   ]
  },
  {
   "cell_type": "code",
   "execution_count": 31,
   "metadata": {},
   "outputs": [
    {
     "name": "stdout",
     "output_type": "stream",
     "text": [
      "Iteration:=1\n",
      "Train mse: 4.195871507930667\n",
      "Test  mse: 4.643430457174636\n",
      "Iteration:=2\n",
      "Train mse: 4.171717388845075\n",
      "Test  mse: 4.636769086176312\n",
      "Iteration:=5\n",
      "Train mse: 4.101454487684428\n",
      "Test  mse: 4.617592047357322\n",
      "Iteration:=10\n",
      "Train mse: 3.9910891705179656\n",
      "Test  mse: 4.588195518323753\n",
      "Iteration:=25\n",
      "\tcurrent iteration:10\n",
      "Train mse: 3.702901639071473\n",
      "Test  mse: 4.516362794083029\n",
      "Iteration:=50\n",
      "\tcurrent iteration:10\n",
      "\tcurrent iteration:20\n",
      "Train mse: 3.32804391285417\n",
      "Test  mse: 4.437677739380121\n",
      "Iteration:=100\n",
      "\tcurrent iteration:10\n",
      "\tcurrent iteration:20\n",
      "\tcurrent iteration:30\n",
      "\tcurrent iteration:40\n",
      "\tcurrent iteration:50\n",
      "Train mse: 2.802844725907474\n",
      "Test  mse: 4.3697558745254925\n",
      "Iteration:=200\n",
      "\tcurrent iteration:10\n",
      "\tcurrent iteration:20\n",
      "\tcurrent iteration:30\n",
      "\tcurrent iteration:40\n",
      "\tcurrent iteration:50\n",
      "\tcurrent iteration:60\n",
      "\tcurrent iteration:70\n",
      "\tcurrent iteration:80\n",
      "\tcurrent iteration:90\n",
      "\tcurrent iteration:100\n",
      "Train mse: 2.104254694641882\n",
      "Test  mse: 4.385814342898085\n"
     ]
    }
   ],
   "source": [
    "MF_SGD = ExplicitMF(tr1, 2, learning='sgd', verbose=True)\n",
    "iter_array = [1, 2, 5, 10, 25, 50, 100, 200]\n",
    "MF_SGD.calculate_learning_curve(iter_array, ts1, learning_rate=0.001)"
   ]
  },
  {
   "cell_type": "code",
   "execution_count": 39,
   "metadata": {},
   "outputs": [
    {
     "name": "stdout",
     "output_type": "stream",
     "text": [
      "TEST DATA Ratings MSE Using SGD 4.385426\n"
     ]
    }
   ],
   "source": [
    "list1_org=[]\n",
    "list2_pred=[]\n",
    "sgd_predictions = np.zeros((len(ts1), len(ts1[0])),dtype=object)\n",
    "ts1_pred=ts1.copy();\n",
    "for u in range(len(ts1)):\n",
    "    for i in range(len(ts1[0])):\n",
    "        if ts1[u][i]!=0:\n",
    "            list1_org.append(round(MF_SGD.predict(u,i),2))\n",
    "            list2_pred.append(ts1[u][i])\n",
    "            sgd_predictions[u][i]=str(ts1[u][i])+' | '+str(round(MF_SGD.predict(u,i),2))\n",
    "print(\"TEST DATA Ratings MSE Using SGD \"+str(mean_squared_error(list2_pred,list1_org)))"
   ]
  },
  {
   "cell_type": "markdown",
   "metadata": {},
   "source": [
    "#### Predictions of test data using SGD"
   ]
  },
  {
   "cell_type": "code",
   "execution_count": 40,
   "metadata": {},
   "outputs": [
    {
     "data": {
      "text/plain": [
       "array([[0, 0, 0, 0, 0, 0, 0, 0, 0, 0, 0, 0, 0, 0, 0, 0, 0, 0, 0,\n",
       "        '5 | 2.73'],\n",
       "       [0, 0, 0, '7 | 5.56', 0, 0, 0, 0, 0, 0, 0, 0, 0, '1 | 3.75',\n",
       "        '7 | 5.65', 0, 0, 0, 0, 0],\n",
       "       [0, 0, 0, '2 | 4.16', 0, 0, 0, 0, 0, '7 | 5.27', '3 | 2.44', 0, 0,\n",
       "        0, 0, 0, 0, '2 | 2.59', 0, 0],\n",
       "       [0, 0, 0, 0, 0, 0, 0, 0, 0, 0, 0, 0, 0, 0, 0, 0, 0, 0, '6 | 3.51',\n",
       "        0],\n",
       "       [0, 0, 0, 0, 0, 0, 0, 0, 0, '1 | 5.4', 0, 0, '7 | 4.76',\n",
       "        '3 | 3.68', 0, 0, 0, 0, 0, 0],\n",
       "       [0, 0, 0, 0, 0, 0, '6 | 4.96', 0, 0, 0, 0, '5 | 3.51', '6 | 4.52',\n",
       "        0, 0, 0, 0, 0, 0, 0],\n",
       "       [0, 0, 0, 0, 0, 0, '7 | 4.51', 0, 0, 0, 0, 0, 0, 0, 0, '3 | 3.15',\n",
       "        0, 0, 0, 0],\n",
       "       [0, 0, 0, 0, 0, 0, 0, 0, 0, 0, 0, 0, 0, 0, 0, 0, 0, 0, 0, 0],\n",
       "       [0, 0, 0, 0, 0, 0, '6 | 5.5', 0, 0, 0, 0, 0, '7 | 5.69',\n",
       "        '7 | 6.03', 0, 0, 0, 0, 0, '2 | 4.0'],\n",
       "       [0, 0, 0, 0, 0, '4 | 4.7', 0, 0, 0, 0, 0, 0, '4 | 4.61', 0, 0,\n",
       "        '5 | 3.91', 0, 0, 0, 0],\n",
       "       [0, 0, '5 | 5.17', 0, 0, 0, 0, 0, 0, 0, '2 | 3.52', 0, 0, 0, 0, 0,\n",
       "        0, 0, 0, 0],\n",
       "       [0, 0, 0, 0, 0, 0, 0, 0, 0, 0, 0, 0, 0, 0, 0, 0, 0, 0, 0,\n",
       "        '4 | 3.13'],\n",
       "       [0, 0, 0, 0, 0, 0, 0, 0, 0, 0, 0, 0, 0, 0, 0, 0, 0, 0, '6 | 4.19',\n",
       "        0],\n",
       "       [0, 0, 0, 0, 0, 0, 0, 0, 0, 0, 0, 0, 0, 0, 0, 0, 0, 0, 0, 0],\n",
       "       [0, 0, 0, '1 | 5.27', 0, 0, 0, '4 | 5.04', 0, 0, 0, 0, '1 | 5.04',\n",
       "        0, 0, 0, 0, 0, 0, 0],\n",
       "       [0, 0, 0, 0, 0, 0, 0, 0, '2 | 4.35', 0, 0, 0, 0, 0, '7 | 4.62',\n",
       "        '2 | 3.5', 0, 0, 0, 0],\n",
       "       [0, 0, 0, 0, 0, 0, '7 | 5.45', 0, 0, 0, '3 | 3.55', 0, 0,\n",
       "        '1 | 5.05', 0, 0, '3 | 4.53', 0, 0, 0],\n",
       "       [0, 0, 0, 0, 0, 0, 0, 0, 0, 0, 0, 0, 0, 0, 0, 0, 0, 0, 0, 0],\n",
       "       [0, 0, 0, '1 | 3.33', 0, 0, 0, 0, 0, 0, 0, 0, 0, 0, 0, '6 | 2.16',\n",
       "        0, 0, 0, 0],\n",
       "       [0, 0, 0, 0, 0, 0, 0, 0, 0, 0, 0, 0, 0, 0, 0, 0, 0, 0, 0,\n",
       "        '7 | 3.15'],\n",
       "       [0, 0, 0, 0, '6 | 4.01', 0, 0, 0, 0, 0, 0, 0, '5 | 4.52', 0, 0,\n",
       "        '4 | 3.81', 0, 0, 0, 0],\n",
       "       [0, 0, 0, 0, 0, 0, '6 | 4.92', 0, 0, 0, 0, 0, '7 | 4.66',\n",
       "        '4 | 4.84', 0, 0, 0, 0, 0, 0],\n",
       "       [0, 0, 0, 0, 0, 0, 0, 0, 0, 0, 0, 0, 0, 0, 0, 0, 0, 0, 0, 0],\n",
       "       [0, 0, 0, 0, 0, 0, 0, 0, 0, 0, 0, 0, 0, 0, 0, '7 | 2.83', 0, 0, 0,\n",
       "        0],\n",
       "       [0, 0, '6 | 4.67', 0, 0, 0, 0, 0, '3 | 3.07', 0, 0, 0, 0, 0, 0, 0,\n",
       "        0, 0, 0, 0]], dtype=object)"
      ]
     },
     "execution_count": 40,
     "metadata": {},
     "output_type": "execute_result"
    }
   ],
   "source": [
    "sgd_predictions"
   ]
  },
  {
   "cell_type": "code",
   "execution_count": 48,
   "metadata": {},
   "outputs": [
    {
     "data": {
      "image/png": "[encoded data removed]",
      "text/plain": [
       "<Figure size 1080x720 with 2 Axes>"
      ]
     },
     "metadata": {
      "needs_background": "light"
     },
     "output_type": "display_data"
    }
   ],
   "source": [
    "%matplotlib inline\n",
    "plt.figure(figsize=(15,10))\n",
    "plt.imshow(data)\n",
    "plt.xticks(range(len(data[0])))\n",
    "plt.yticks(range(len(data)))\n",
    "ax = plt.gca()\n",
    "ax.set_xticklabels(range(len(data[0])))\n",
    "ax.set_yticklabels(range(len(data)))\n",
    "plt.title(\"Distribution of Ratings In Data\")\n",
    "plt.colorbar();"
   ]
  },
  {
   "cell_type": "markdown",
   "metadata": {},
   "source": [
    "#### 2a) Populate the Ratings matrix in step 1.a in such a way (you are free to choose the rating values) that the MSE obtained in 1.d is minimized. Repeat all steps of Q#1 and submit the answers."
   ]
  },
  {
   "cell_type": "markdown",
   "metadata": {},
   "source": [
    "Note: Here Assumption is that if we consider all equal ratings, then MSE may decrease which is not practical in real time. Here every user rated the item in similar way and for all movies given same rating."
   ]
  },
  {
   "cell_type": "code",
   "execution_count": 51,
   "metadata": {},
   "outputs": [
    {
     "data": {
      "text/plain": [
       "201"
      ]
     },
     "execution_count": 51,
     "metadata": {},
     "output_type": "execute_result"
    }
   ],
   "source": [
    "data_same = np.random.RandomState(43).choice([0,1,2,3,4,5,6,7],500,p=[0.6,0.4,0,0,0,0,0,0])\n",
    "len(data_same)\n",
    "np.count_nonzero(data_same)"
   ]
  },
  {
   "cell_type": "code",
   "execution_count": 52,
   "metadata": {},
   "outputs": [],
   "source": [
    "data_same.resize(25,20)"
   ]
  },
  {
   "cell_type": "code",
   "execution_count": 53,
   "metadata": {},
   "outputs": [],
   "source": [
    "data_same[24][3]=0"
   ]
  },
  {
   "cell_type": "code",
   "execution_count": 54,
   "metadata": {},
   "outputs": [],
   "source": [
    "ts1_same,tr1_same=train_test_split(data_same,44)"
   ]
  },
  {
   "cell_type": "code",
   "execution_count": 55,
   "metadata": {},
   "outputs": [
    {
     "data": {
      "text/plain": [
       "50"
      ]
     },
     "execution_count": 55,
     "metadata": {},
     "output_type": "execute_result"
    }
   ],
   "source": [
    "np.count_nonzero(ts1_same)"
   ]
  },
  {
   "cell_type": "code",
   "execution_count": 56,
   "metadata": {},
   "outputs": [
    {
     "name": "stdout",
     "output_type": "stream",
     "text": [
      "Iteration:=1\n",
      "Train mse: 0.6432517070142811\n",
      "Test  mse: 0.9767374397558167\n",
      "Iteration:=5\n",
      "Train mse: 0.3507550450877766\n",
      "Test  mse: 0.6181377953927407\n",
      "Iteration:=50\n",
      "\tcurrent iteration:10\n",
      "\tcurrent iteration:20\n",
      "\tcurrent iteration:30\n",
      "\tcurrent iteration:40\n",
      "Train mse: 0.3348180654538059\n",
      "Test  mse: 0.6946923410459895\n",
      "Iteration:=100\n",
      "\tcurrent iteration:10\n",
      "\tcurrent iteration:20\n",
      "\tcurrent iteration:30\n",
      "\tcurrent iteration:40\n",
      "\tcurrent iteration:50\n",
      "Train mse: 0.3348180625659062\n",
      "Test  mse: 0.6946923712213617\n",
      "Iteration:=200\n",
      "\tcurrent iteration:10\n",
      "\tcurrent iteration:20\n",
      "\tcurrent iteration:30\n",
      "\tcurrent iteration:40\n",
      "\tcurrent iteration:50\n",
      "\tcurrent iteration:60\n",
      "\tcurrent iteration:70\n",
      "\tcurrent iteration:80\n",
      "\tcurrent iteration:90\n",
      "\tcurrent iteration:100\n",
      "Train mse: 0.3348180625659049\n",
      "Test  mse: 0.694692371221376\n"
     ]
    }
   ],
   "source": [
    "MF_ALS_same = ExplicitMF(tr1_same, 2, learning='als', verbose=True)\n",
    "iter_array1 = [1, 5, 50, 100, 200]\n",
    "MF_ALS_same.calculate_learning_curve(iter_array1, ts1_same, learning_rate=0.01)"
   ]
  },
  {
   "cell_type": "code",
   "execution_count": 57,
   "metadata": {},
   "outputs": [
    {
     "name": "stdout",
     "output_type": "stream",
     "text": [
      "TEST DATA (50 RATINGS) MSE 0.6953800000000001\n"
     ]
    }
   ],
   "source": [
    "list1_org=[]\n",
    "list2_pred=[]\n",
    "predictions_same = np.zeros((len(ts1_same), len(ts1_same[0])),dtype=object)\n",
    "ts1_same_pred=ts1_same.copy();\n",
    "for u in range(len(ts1_same)):\n",
    "    for i in range(len(ts1_same[0])):\n",
    "        if ts1_same[u][i]!=0:\n",
    "            list1_org.append(round(MF_ALS_same.predict(u,i),2))\n",
    "            list2_pred.append(ts1_same[u][i])\n",
    "            predictions_same[u][i]=str(ts1_same[u][i])+' | '+str(round(MF_ALS_same.predict(u,i),2))\n",
    "print(\"TEST DATA (50 RATINGS) MSE \"+str(mean_squared_error(list2_pred,list1_org)))"
   ]
  },
  {
   "cell_type": "code",
   "execution_count": 58,
   "metadata": {},
   "outputs": [
    {
     "data": {
      "text/plain": [
       "array([[0, 0, 0, 0, 0, 0, 0, 0, 0, 0, 0, 0, 0, 0, 0, 0, 0, 0, 0,\n",
       "        '1 | 0.22'],\n",
       "       [0, 0, 0, '1 | 0.13', 0, 0, 0, 0, 0, 0, 0, 0, 0, '1 | 0.32',\n",
       "        '1 | 0.35', 0, 0, 0, 0, 0],\n",
       "       [0, 0, 0, '1 | 0.03', 0, 0, 0, 0, 0, '1 | 0.17', '1 | 0.45', 0, 0,\n",
       "        0, 0, 0, 0, '1 | 0.43', 0, 0],\n",
       "       [0, 0, 0, 0, 0, 0, 0, 0, 0, 0, 0, 0, 0, 0, 0, 0, 0, 0, '1 | 0.18',\n",
       "        0],\n",
       "       [0, 0, 0, 0, 0, 0, 0, 0, 0, '1 | -0.21', 0, 0, '1 | 0.19',\n",
       "        '1 | -0.24', 0, 0, 0, 0, 0, 0],\n",
       "       [0, 0, 0, 0, 0, 0, '1 | 0.03', 0, 0, 0, 0, '1 | -0.03',\n",
       "        '1 | 0.21', 0, 0, 0, 0, 0, 0, 0],\n",
       "       [0, 0, 0, 0, 0, 0, '1 | 0.3', 0, 0, 0, 0, 0, 0, 0, 0, '1 | 0.31',\n",
       "        0, 0, 0, 0],\n",
       "       [0, 0, 0, 0, 0, 0, 0, 0, 0, 0, 0, 0, 0, 0, 0, 0, 0, 0, 0, 0],\n",
       "       [0, 0, 0, 0, 0, 0, '1 | 0.01', 0, 0, 0, 0, 0, '1 | 0.19',\n",
       "        '1 | 0.46', 0, 0, 0, 0, 0, '1 | -0.03'],\n",
       "       [0, 0, 0, 0, 0, '1 | 0.37', 0, 0, 0, 0, 0, 0, '1 | 0.22', 0, 0,\n",
       "        '1 | 0.33', 0, 0, 0, 0],\n",
       "       [0, 0, '1 | 0.13', 0, 0, 0, 0, 0, 0, 0, '1 | -0.04', 0, 0, 0, 0,\n",
       "        0, 0, 0, 0, 0],\n",
       "       [0, 0, 0, 0, 0, 0, 0, 0, 0, 0, 0, 0, 0, 0, 0, 0, 0, 0, 0,\n",
       "        '1 | 0.03'],\n",
       "       [0, 0, 0, 0, 0, 0, 0, 0, 0, 0, 0, 0, 0, 0, 0, 0, 0, 0, '1 | 0.19',\n",
       "        0],\n",
       "       [0, 0, 0, 0, 0, 0, 0, 0, 0, 0, 0, 0, 0, 0, 0, 0, 0, 0, 0, 0],\n",
       "       [0, 0, 0, '1 | 0.13', 0, 0, 0, '1 | 0.41', 0, 0, 0, 0, '1 | 0.23',\n",
       "        0, 0, 0, 0, 0, 0, 0],\n",
       "       [0, 0, 0, 0, 0, 0, 0, 0, '1 | -0.16', 0, 0, 0, 0, 0, '1 | 0.08',\n",
       "        '1 | 0.11', 0, 0, 0, 0],\n",
       "       [0, 0, 0, 0, 0, 0, '1 | 0.17', 0, 0, 0, '1 | 0.08', 0, 0,\n",
       "        '1 | 0.5', 0, 0, '1 | 0.41', 0, 0, 0],\n",
       "       [0, 0, 0, 0, 0, 0, 0, 0, 0, 0, 0, 0, 0, 0, 0, 0, 0, 0, 0, 0],\n",
       "       [0, 0, 0, '1 | -0.01', 0, 0, 0, 0, 0, 0, 0, 0, 0, 0, 0,\n",
       "        '1 | 0.21', 0, 0, 0, 0],\n",
       "       [0, 0, 0, 0, 0, 0, 0, 0, 0, 0, 0, 0, 0, 0, 0, 0, 0, 0, 0,\n",
       "        '1 | -0.2'],\n",
       "       [0, 0, 0, 0, '1 | 0.28', 0, 0, 0, 0, 0, 0, 0, '1 | 0.19', 0, 0,\n",
       "        '1 | 0.2', 0, 0, 0, 0],\n",
       "       [0, 0, 0, 0, 0, 0, '1 | 0.15', 0, 0, 0, 0, 0, '1 | 0.23',\n",
       "        '1 | 0.41', 0, 0, 0, 0, 0, 0],\n",
       "       [0, 0, 0, 0, 0, 0, 0, 0, 0, 0, 0, 0, 0, 0, 0, 0, 0, 0, 0, 0],\n",
       "       [0, 0, 0, 0, 0, 0, 0, 0, 0, 0, 0, 0, 0, 0, 0, '1 | 0.59', 0, 0, 0,\n",
       "        0],\n",
       "       [0, 0, '1 | 0.28', 0, 0, 0, 0, 0, '1 | 0.37', 0, 0, 0, 0, 0, 0, 0,\n",
       "        0, 0, 0, 0]], dtype=object)"
      ]
     },
     "execution_count": 58,
     "metadata": {},
     "output_type": "execute_result"
    }
   ],
   "source": [
    "predictions_same"
   ]
  },
  {
   "cell_type": "code",
   "execution_count": 59,
   "metadata": {},
   "outputs": [
    {
     "name": "stdout",
     "output_type": "stream",
     "text": [
      "Iteration:=1\n",
      "Train mse: 0.09676750737306158\n",
      "Test  mse: 0.09095687529668112\n",
      "Iteration:=5\n",
      "Train mse: 0.06449363468043266\n",
      "Test  mse: 0.07903922797725894\n",
      "Iteration:=50\n",
      "\tcurrent iteration:10\n",
      "\tcurrent iteration:20\n",
      "\tcurrent iteration:30\n",
      "\tcurrent iteration:40\n",
      "Train mse: 0.009769679995539612\n",
      "Test  mse: 0.042971147497439376\n",
      "Iteration:=100\n",
      "\tcurrent iteration:10\n",
      "\tcurrent iteration:20\n",
      "\tcurrent iteration:30\n",
      "\tcurrent iteration:40\n",
      "\tcurrent iteration:50\n",
      "Train mse: 0.0037593381081249292\n",
      "Test  mse: 0.03146834358646527\n",
      "Iteration:=200\n",
      "\tcurrent iteration:10\n",
      "\tcurrent iteration:20\n",
      "\tcurrent iteration:30\n",
      "\tcurrent iteration:40\n",
      "\tcurrent iteration:50\n",
      "\tcurrent iteration:60\n",
      "\tcurrent iteration:70\n",
      "\tcurrent iteration:80\n",
      "\tcurrent iteration:90\n",
      "\tcurrent iteration:100\n",
      "Train mse: 0.0011807227845635764\n",
      "Test  mse: 0.022762015170109517\n"
     ]
    }
   ],
   "source": [
    "MF_SGD_same = ExplicitMF(tr1_same, 2, learning='sgd', verbose=True)\n",
    "iter_array1 = [1, 5, 50, 100, 200]\n",
    "MF_SGD_same.calculate_learning_curve(iter_array1, ts1_same, learning_rate=0.01)"
   ]
  },
  {
   "cell_type": "code",
   "execution_count": 60,
   "metadata": {},
   "outputs": [
    {
     "name": "stdout",
     "output_type": "stream",
     "text": [
      "TEST DATA (50 RATINGS) MSE 0.022809999999999997\n"
     ]
    }
   ],
   "source": [
    "list1_org=[]\n",
    "list2_pred=[]\n",
    "sgd_predictions_same = np.zeros((len(ts1_same), len(ts1_same[0])),dtype=object)\n",
    "ts1_same_pred=ts1_same.copy();\n",
    "for u in range(len(ts1_same)):\n",
    "    for i in range(len(ts1_same[0])):\n",
    "        if ts1_same[u][i]!=0:\n",
    "            list1_org.append(round(MF_SGD_same.predict(u,i),2))\n",
    "            list2_pred.append(ts1_same[u][i])\n",
    "            sgd_predictions_same[u][i]=str(ts1_same[u][i])+' | '+str(round(MF_SGD_same.predict(u,i),2))\n",
    "print(\"TEST DATA (50 RATINGS) MSE \"+str(mean_squared_error(list2_pred,list1_org)))"
   ]
  },
  {
   "cell_type": "code",
   "execution_count": 61,
   "metadata": {
    "scrolled": true
   },
   "outputs": [
    {
     "data": {
      "text/plain": [
       "array([[0, 0, 0, 0, 0, 0, 0, 0, 0, 0, 0, 0, 0, 0, 0, 0, 0, 0, 0,\n",
       "        '1 | 1.1'],\n",
       "       [0, 0, 0, '1 | 0.77', 0, 0, 0, 0, 0, 0, 0, 0, 0, '1 | 0.94',\n",
       "        '1 | 0.34', 0, 0, 0, 0, 0],\n",
       "       [0, 0, 0, '1 | 0.89', 0, 0, 0, 0, 0, '1 | 1.01', '1 | 0.94', 0, 0,\n",
       "        0, 0, 0, 0, '1 | 1.15', 0, 0],\n",
       "       [0, 0, 0, 0, 0, 0, 0, 0, 0, 0, 0, 0, 0, 0, 0, 0, 0, 0, '1 | 1.14',\n",
       "        0],\n",
       "       [0, 0, 0, 0, 0, 0, 0, 0, 0, '1 | 0.96', 0, 0, '1 | 1.01',\n",
       "        '1 | 0.97', 0, 0, 0, 0, 0, 0],\n",
       "       [0, 0, 0, 0, 0, 0, '1 | 0.91', 0, 0, 0, 0, '1 | 1.0', '1 | 0.97',\n",
       "        0, 0, 0, 0, 0, 0, 0],\n",
       "       [0, 0, 0, 0, 0, 0, '1 | 0.95', 0, 0, 0, 0, 0, 0, 0, 0, '1 | 0.96',\n",
       "        0, 0, 0, 0],\n",
       "       [0, 0, 0, 0, 0, 0, 0, 0, 0, 0, 0, 0, 0, 0, 0, 0, 0, 0, 0, 0],\n",
       "       [0, 0, 0, 0, 0, 0, '1 | 0.87', 0, 0, 0, 0, 0, '1 | 1.02',\n",
       "        '1 | 1.0', 0, 0, 0, 0, 0, '1 | 1.08'],\n",
       "       [0, 0, 0, 0, 0, '1 | 0.74', 0, 0, 0, 0, 0, 0, '1 | 0.89', 0, 0,\n",
       "        '1 | 1.01', 0, 0, 0, 0],\n",
       "       [0, 0, '1 | 1.26', 0, 0, 0, 0, 0, 0, 0, '1 | 1.48', 0, 0, 0, 0, 0,\n",
       "        0, 0, 0, 0],\n",
       "       [0, 0, 0, 0, 0, 0, 0, 0, 0, 0, 0, 0, 0, 0, 0, 0, 0, 0, 0,\n",
       "        '1 | 0.88'],\n",
       "       [0, 0, 0, 0, 0, 0, 0, 0, 0, 0, 0, 0, 0, 0, 0, 0, 0, 0, '1 | 1.11',\n",
       "        0],\n",
       "       [0, 0, 0, 0, 0, 0, 0, 0, 0, 0, 0, 0, 0, 0, 0, 0, 0, 0, 0, 0],\n",
       "       [0, 0, 0, '1 | 0.94', 0, 0, 0, '1 | 1.04', 0, 0, 0, 0, '1 | 0.99',\n",
       "        0, 0, 0, 0, 0, 0, 0],\n",
       "       [0, 0, 0, 0, 0, 0, 0, 0, '1 | 0.99', 0, 0, 0, 0, 0, '1 | 1.12',\n",
       "        '1 | 1.0', 0, 0, 0, 0],\n",
       "       [0, 0, 0, 0, 0, 0, '1 | 1.02', 0, 0, 0, '1 | 0.98', 0, 0,\n",
       "        '1 | 0.96', 0, 0, '1 | 0.97', 0, 0, 0],\n",
       "       [0, 0, 0, 0, 0, 0, 0, 0, 0, 0, 0, 0, 0, 0, 0, 0, 0, 0, 0, 0],\n",
       "       [0, 0, 0, '1 | 0.97', 0, 0, 0, 0, 0, 0, 0, 0, 0, 0, 0, '1 | 0.97',\n",
       "        0, 0, 0, 0],\n",
       "       [0, 0, 0, 0, 0, 0, 0, 0, 0, 0, 0, 0, 0, 0, 0, 0, 0, 0, 0,\n",
       "        '1 | 1.16'],\n",
       "       [0, 0, 0, 0, '1 | 0.99', 0, 0, 0, 0, 0, 0, 0, '1 | 0.98', 0, 0,\n",
       "        '1 | 0.98', 0, 0, 0, 0],\n",
       "       [0, 0, 0, 0, 0, 0, '1 | 0.73', 0, 0, 0, 0, 0, '1 | 0.9',\n",
       "        '1 | 0.96', 0, 0, 0, 0, 0, 0],\n",
       "       [0, 0, 0, 0, 0, 0, 0, 0, 0, 0, 0, 0, 0, 0, 0, 0, 0, 0, 0, 0],\n",
       "       [0, 0, 0, 0, 0, 0, 0, 0, 0, 0, 0, 0, 0, 0, 0, '1 | 0.98', 0, 0, 0,\n",
       "        0],\n",
       "       [0, 0, '1 | 0.98', 0, 0, 0, 0, 0, '1 | 0.99', 0, 0, 0, 0, 0, 0, 0,\n",
       "        0, 0, 0, 0]], dtype=object)"
      ]
     },
     "execution_count": 61,
     "metadata": {},
     "output_type": "execute_result"
    }
   ],
   "source": [
    "sgd_predictions_same"
   ]
  },
  {
   "cell_type": "markdown",
   "metadata": {},
   "source": [
    "#### Observations: \n",
    "    * Here if we consider all non-zero ratings as same ratings (1 here), we have observed that mse has been drastically dropped to less than 1. Hence the data with same ratings can minimize the MSE calculated in q#1 (mse from 18.55 to 0.69).\n",
    "    * But also observed that if we consider same rating always the predicted rating will be less than one as this may be due to empty ratings here are considered to be 0 ratings and training model get dominated by 0 ratings and there is no much variance between data making it to always predict to a value less than 0 but good thing here is mse is minimized.\n",
    "    * Practically this type of data doesn't exist in real world (i.e., giving same rating to all items by all users) but to get most minimised mse we have considered this case."
   ]
  },
  {
   "cell_type": "code",
   "execution_count": 62,
   "metadata": {},
   "outputs": [
    {
     "data": {
      "image/png": "[encoded data removed]",
      "text/plain": [
       "<Figure size 1080x720 with 2 Axes>"
      ]
     },
     "metadata": {
      "needs_background": "light"
     },
     "output_type": "display_data"
    }
   ],
   "source": [
    "%matplotlib inline\n",
    "plt.figure(figsize=(15,10))\n",
    "plt.imshow(data_same)\n",
    "plt.xticks(range(len(data_same[0])))\n",
    "plt.yticks(range(len(data_same)))\n",
    "ax = plt.gca()\n",
    "ax.set_xticklabels(range(len(data_same[0])))\n",
    "ax.set_yticklabels(range(len(data_same)))\n",
    "plt.title(\"Distribution of Ratings In Data to get minimized MSE\")\n",
    "plt.colorbar();"
   ]
  },
  {
   "cell_type": "markdown",
   "metadata": {},
   "source": [
    "#### 3a) Now populate the Ratings matrix in such a way that the MSE obtained in 1.d is maximized."
   ]
  },
  {
   "cell_type": "markdown",
   "metadata": {},
   "source": [
    "#### Assumptions:\n",
    "    * Considering data with more variance that is ratings are varied such a way that for same item few users gives best rating and other giving worst rating making to have more variance will yield maximise MSE\n",
    "    * To generate this type of data we need to consider ratings in such a way that their distribution is not uniform. Here I have considered 0.6 percent of data wil be empty ratings, 1,2,3,5,6 have 0.0 distribution and 4 rating will be in 0.2 and 7 rating will be in 0.15 percent of toatl data."
   ]
  },
  {
   "cell_type": "code",
   "execution_count": 67,
   "metadata": {},
   "outputs": [
    {
     "data": {
      "text/plain": [
       "201"
      ]
     },
     "execution_count": 67,
     "metadata": {},
     "output_type": "execute_result"
    }
   ],
   "source": [
    "data_diff = np.random.RandomState(43).choice([0,1,2,3,4,5,6,7],500,p=[0.6,0.01,0.01,0.01,0.2,0.01,0.01,0.15])\n",
    "len(data_diff)\n",
    "np.count_nonzero(data_diff)"
   ]
  },
  {
   "cell_type": "code",
   "execution_count": 68,
   "metadata": {},
   "outputs": [],
   "source": [
    "data_diff.resize(25,20)"
   ]
  },
  {
   "cell_type": "code",
   "execution_count": 69,
   "metadata": {},
   "outputs": [],
   "source": [
    "data_diff[24][3]=0"
   ]
  },
  {
   "cell_type": "code",
   "execution_count": 70,
   "metadata": {},
   "outputs": [],
   "source": [
    "ts1_diff,tr1_diff=train_test_split(data_diff,44)"
   ]
  },
  {
   "cell_type": "code",
   "execution_count": 71,
   "metadata": {},
   "outputs": [
    {
     "data": {
      "text/plain": [
       "50"
      ]
     },
     "execution_count": 71,
     "metadata": {},
     "output_type": "execute_result"
    }
   ],
   "source": [
    "np.count_nonzero(ts1_diff)"
   ]
  },
  {
   "cell_type": "code",
   "execution_count": 72,
   "metadata": {},
   "outputs": [
    {
     "name": "stdout",
     "output_type": "stream",
     "text": [
      "Iteration:=1\n",
      "Train mse: 15.82538019820787\n",
      "Test  mse: 21.293548757793197\n",
      "Iteration:=5\n",
      "Train mse: 10.67067717619754\n",
      "Test  mse: 22.90326060587929\n",
      "Iteration:=50\n",
      "\tcurrent iteration:10\n",
      "\tcurrent iteration:20\n",
      "\tcurrent iteration:30\n",
      "\tcurrent iteration:40\n",
      "Train mse: 10.534536409036066\n",
      "Test  mse: 23.205178408209317\n",
      "Iteration:=100\n",
      "\tcurrent iteration:10\n",
      "\tcurrent iteration:20\n",
      "\tcurrent iteration:30\n",
      "\tcurrent iteration:40\n",
      "\tcurrent iteration:50\n",
      "Train mse: 10.534536525494122\n",
      "Test  mse: 23.20517867003746\n",
      "Iteration:=200\n",
      "\tcurrent iteration:10\n",
      "\tcurrent iteration:20\n",
      "\tcurrent iteration:30\n",
      "\tcurrent iteration:40\n",
      "\tcurrent iteration:50\n",
      "\tcurrent iteration:60\n",
      "\tcurrent iteration:70\n",
      "\tcurrent iteration:80\n",
      "\tcurrent iteration:90\n",
      "\tcurrent iteration:100\n",
      "Train mse: 10.534536525494142\n",
      "Test  mse: 23.205178670037498\n"
     ]
    }
   ],
   "source": [
    "MF_ALS_diff = ExplicitMF(tr1_diff, 2, learning='als', verbose=True)\n",
    "iter_array1 = [1, 5, 50, 100, 200]\n",
    "MF_ALS_diff.calculate_learning_curve(iter_array1, ts1_diff, learning_rate=0.01)"
   ]
  },
  {
   "cell_type": "code",
   "execution_count": 73,
   "metadata": {},
   "outputs": [
    {
     "name": "stdout",
     "output_type": "stream",
     "text": [
      "TEST DATA (50 RATINGS) MSE 23.201428\n"
     ]
    }
   ],
   "source": [
    "list1_org=[]\n",
    "list2_pred=[]\n",
    "predictions_diff = np.zeros((len(ts1_diff), len(ts1_diff[0])),dtype=object)\n",
    "ts1_diff_pred=ts1_diff.copy();\n",
    "for u in range(len(ts1_diff)):\n",
    "    for i in range(len(ts1_diff[0])):\n",
    "        if ts1_diff[u][i]!=0:\n",
    "            list1_org.append(round(MF_ALS_diff.predict(u,i),2))\n",
    "            list2_pred.append(ts1_diff[u][i])\n",
    "            predictions_diff[u][i]=str(ts1_diff[u][i])+' | '+str(round(MF_ALS_diff.predict(u,i),2))\n",
    "print(\"TEST DATA (50 RATINGS) MSE \"+str(mean_squared_error(list2_pred,list1_org)))"
   ]
  },
  {
   "cell_type": "code",
   "execution_count": 74,
   "metadata": {},
   "outputs": [
    {
     "data": {
      "text/plain": [
       "array([[0, 0, 0, 0, 0, 0, 0, 0, 0, 0, 0, 0, 0, 0, 0, 0, 0, 0, 0,\n",
       "        '6 | 0.7'],\n",
       "       [0, 0, 0, '7 | 0.74', 0, 0, 0, 0, 0, 0, 0, 0, 0, '4 | 1.45',\n",
       "        '7 | 2.09', 0, 0, 0, 0, 0],\n",
       "       [0, 0, 0, '4 | -0.02', 0, 0, 0, 0, 0, '7 | 0.27', '4 | 2.08', 0,\n",
       "        0, 0, 0, 0, 0, '4 | 2.1', 0, 0],\n",
       "       [0, 0, 0, 0, 0, 0, 0, 0, 0, 0, 0, 0, 0, 0, 0, 0, 0, 0, '7 | 0.55',\n",
       "        0],\n",
       "       [0, 0, 0, 0, 0, 0, 0, 0, 0, '2 | -1.29', 0, 0, '7 | 0.05',\n",
       "        '4 | -1.45', 0, 0, 0, 0, 0, 0],\n",
       "       [0, 0, 0, 0, 0, 0, '7 | -0.41', 0, 0, 0, 0, '6 | -0.25',\n",
       "        '7 | 1.56', 0, 0, 0, 0, 0, 0, 0],\n",
       "       [0, 0, 0, 0, 0, 0, '7 | 1.07', 0, 0, 0, 0, 0, 0, 0, 0, '4 | 1.63',\n",
       "        0, 0, 0, 0],\n",
       "       [0, 0, 0, 0, 0, 0, 0, 0, 0, 0, 0, 0, 0, 0, 0, 0, 0, 0, 0, 0],\n",
       "       [0, 0, 0, 0, 0, 0, '7 | -0.5', 0, 0, 0, 0, 0, '7 | 1.86',\n",
       "        '7 | 3.22', 0, 0, 0, 0, 0, '4 | -0.12'],\n",
       "       [0, 0, 0, 0, 0, '4 | 2.3', 0, 0, 0, 0, 0, 0, '4 | 0.67', 0, 0,\n",
       "        '5 | 2.05', 0, 0, 0, 0],\n",
       "       [0, 0, '7 | 1.28', 0, 0, 0, 0, 0, 0, 0, '4 | 0.29', 0, 0, 0, 0, 0,\n",
       "        0, 0, 0, 0],\n",
       "       [0, 0, 0, 0, 0, 0, 0, 0, 0, 0, 0, 0, 0, 0, 0, 0, 0, 0, 0,\n",
       "        '4 | 0.19'],\n",
       "       [0, 0, 0, 0, 0, 0, 0, 0, 0, 0, 0, 0, 0, 0, 0, 0, 0, 0, '7 | 0.52',\n",
       "        0],\n",
       "       [0, 0, 0, 0, 0, 0, 0, 0, 0, 0, 0, 0, 0, 0, 0, 0, 0, 0, 0, 0],\n",
       "       [0, 0, 0, '2 | 0.5', 0, 0, 0, '4 | 1.92', 0, 0, 0, 0, '4 | 1.04',\n",
       "        0, 0, 0, 0, 0, 0, 0],\n",
       "       [0, 0, 0, 0, 0, 0, 0, 0, '4 | -0.58', 0, 0, 0, 0, 0, '7 | 0.13',\n",
       "        '4 | 1.16', 0, 0, 0, 0],\n",
       "       [0, 0, 0, 0, 0, 0, '7 | 0.79', 0, 0, 0, '4 | 0.35', 0, 0,\n",
       "        '4 | 2.78', 0, 0, '4 | 2.35', 0, 0, 0],\n",
       "       [0, 0, 0, 0, 0, 0, 0, 0, 0, 0, 0, 0, 0, 0, 0, 0, 0, 0, 0, 0],\n",
       "       [0, 0, 0, '3 | 0.16', 0, 0, 0, 0, 0, 0, 0, 0, 0, 0, 0, '7 | 1.46',\n",
       "        0, 0, 0, 0],\n",
       "       [0, 0, 0, 0, 0, 0, 0, 0, 0, 0, 0, 0, 0, 0, 0, 0, 0, 0, 0,\n",
       "        '7 | -0.49'],\n",
       "       [0, 0, 0, 0, '7 | 0.91', 0, 0, 0, 0, 0, 0, 0, '6 | 0.1', 0, 0,\n",
       "        '4 | 1.53', 0, 0, 0, 0],\n",
       "       [0, 0, 0, 0, 0, 0, '7 | 0.38', 0, 0, 0, 0, 0, '7 | 1.63',\n",
       "        '4 | 2.56', 0, 0, 0, 0, 0, 0],\n",
       "       [0, 0, 0, 0, 0, 0, 0, 0, 0, 0, 0, 0, 0, 0, 0, 0, 0, 0, 0, 0],\n",
       "       [0, 0, 0, 0, 0, 0, 0, 0, 0, 0, 0, 0, 0, 0, 0, '7 | 2.15', 0, 0, 0,\n",
       "        0],\n",
       "       [0, 0, '7 | 1.55', 0, 0, 0, 0, 0, '4 | 0.75', 0, 0, 0, 0, 0, 0, 0,\n",
       "        0, 0, 0, 0]], dtype=object)"
      ]
     },
     "execution_count": 74,
     "metadata": {},
     "output_type": "execute_result"
    }
   ],
   "source": [
    "predictions_diff"
   ]
  },
  {
   "cell_type": "code",
   "execution_count": 76,
   "metadata": {},
   "outputs": [
    {
     "name": "stdout",
     "output_type": "stream",
     "text": [
      "Iteration:=1\n",
      "Train mse: 2.9630623920980397\n",
      "Test  mse: 2.559754127534314\n",
      "Iteration:=5\n",
      "Train mse: 2.4458255552391512\n",
      "Test  mse: 2.555971864733458\n",
      "Iteration:=50\n",
      "\tcurrent iteration:10\n",
      "\tcurrent iteration:20\n",
      "\tcurrent iteration:30\n",
      "\tcurrent iteration:40\n",
      "Train mse: 0.8973826592227198\n",
      "Test  mse: 4.104294121745248\n",
      "Iteration:=100\n",
      "\tcurrent iteration:10\n",
      "\tcurrent iteration:20\n",
      "\tcurrent iteration:30\n",
      "\tcurrent iteration:40\n",
      "\tcurrent iteration:50\n",
      "Train mse: 0.5269432350893525\n",
      "Test  mse: 5.718589400935397\n",
      "Iteration:=200\n",
      "\tcurrent iteration:10\n",
      "\tcurrent iteration:20\n",
      "\tcurrent iteration:30\n",
      "\tcurrent iteration:40\n",
      "\tcurrent iteration:50\n",
      "\tcurrent iteration:60\n",
      "\tcurrent iteration:70\n",
      "\tcurrent iteration:80\n",
      "\tcurrent iteration:90\n",
      "\tcurrent iteration:100\n",
      "Train mse: 0.3049938908415537\n",
      "Test  mse: 9.132373663329593\n"
     ]
    }
   ],
   "source": [
    "MF_SGD_diff = ExplicitMF(tr1_diff, 2, learning='sgd', verbose=True)\n",
    "iter_array1 = [1, 5, 50, 100, 200]\n",
    "MF_SGD_diff.calculate_learning_curve(iter_array1, ts1_diff, learning_rate=0.01)"
   ]
  },
  {
   "cell_type": "code",
   "execution_count": 77,
   "metadata": {},
   "outputs": [
    {
     "name": "stdout",
     "output_type": "stream",
     "text": [
      "TEST DATA (50 RATINGS) MSE 9.132591999999999\n"
     ]
    }
   ],
   "source": [
    "list1_org=[]\n",
    "list2_pred=[]\n",
    "sgd_predictions_diff = np.zeros((len(ts1_diff), len(ts1_diff[0])),dtype=object)\n",
    "ts1_diff_pred=ts1_diff.copy();\n",
    "for u in range(len(ts1_diff)):\n",
    "    for i in range(len(ts1_diff[0])):\n",
    "        if ts1_diff[u][i]!=0:\n",
    "            list1_org.append(round(MF_SGD_diff.predict(u,i),2))\n",
    "            list2_pred.append(ts1_diff[u][i])\n",
    "            sgd_predictions_diff[u][i]=str(ts1_diff[u][i])+' | '+str(round(MF_SGD_diff.predict(u,i),2))\n",
    "print(\"TEST DATA (50 RATINGS) MSE \"+str(mean_squared_error(list2_pred,list1_org)))"
   ]
  },
  {
   "cell_type": "code",
   "execution_count": 78,
   "metadata": {
    "scrolled": true
   },
   "outputs": [
    {
     "data": {
      "text/plain": [
       "array([[0, 0, 0, 0, 0, 0, 0, 0, 0, 0, 0, 0, 0, 0, 0, 0, 0, 0, 0,\n",
       "        '6 | -0.15'],\n",
       "       [0, 0, 0, '7 | 8.83', 0, 0, 0, 0, 0, 0, 0, 0, 0, '4 | 6.9',\n",
       "        '7 | 6.22', 0, 0, 0, 0, 0],\n",
       "       [0, 0, 0, '4 | 7.44', 0, 0, 0, 0, 0, '7 | 2.93', '4 | -0.74', 0,\n",
       "        0, 0, 0, 0, 0, '4 | 4.53', 0, 0],\n",
       "       [0, 0, 0, 0, 0, 0, 0, 0, 0, 0, 0, 0, 0, 0, 0, 0, 0, 0, '7 | 0.66',\n",
       "        0],\n",
       "       [0, 0, 0, 0, 0, 0, 0, 0, 0, '2 | 9.91', 0, 0, '7 | 9.71',\n",
       "        '4 | 10.55', 0, 0, 0, 0, 0, 0],\n",
       "       [0, 0, 0, 0, 0, 0, '7 | 7.46', 0, 0, 0, 0, '6 | 3.17', '7 | 5.24',\n",
       "        0, 0, 0, 0, 0, 0, 0],\n",
       "       [0, 0, 0, 0, 0, 0, '7 | 6.39', 0, 0, 0, 0, 0, 0, 0, 0, '4 | 5.56',\n",
       "        0, 0, 0, 0],\n",
       "       [0, 0, 0, 0, 0, 0, 0, 0, 0, 0, 0, 0, 0, 0, 0, 0, 0, 0, 0, 0],\n",
       "       [0, 0, 0, 0, 0, 0, '7 | 8.24', 0, 0, 0, 0, 0, '7 | 7.05',\n",
       "        '7 | 7.45', 0, 0, 0, 0, 0, '4 | 5.15'],\n",
       "       [0, 0, 0, 0, 0, '4 | 4.44', 0, 0, 0, 0, 0, 0, '4 | 5.6', 0, 0,\n",
       "        '5 | 5.5', 0, 0, 0, 0],\n",
       "       [0, 0, '7 | 9.51', 0, 0, 0, 0, 0, 0, 0, '4 | -2.29', 0, 0, 0, 0,\n",
       "        0, 0, 0, 0, 0],\n",
       "       [0, 0, 0, 0, 0, 0, 0, 0, 0, 0, 0, 0, 0, 0, 0, 0, 0, 0, 0,\n",
       "        '4 | 1.28'],\n",
       "       [0, 0, 0, 0, 0, 0, 0, 0, 0, 0, 0, 0, 0, 0, 0, 0, 0, 0, '7 | 5.41',\n",
       "        0],\n",
       "       [0, 0, 0, 0, 0, 0, 0, 0, 0, 0, 0, 0, 0, 0, 0, 0, 0, 0, 0, 0],\n",
       "       [0, 0, 0, '2 | 4.79', 0, 0, 0, '4 | 3.42', 0, 0, 0, 0, '4 | 9.26',\n",
       "        0, 0, 0, 0, 0, 0, 0],\n",
       "       [0, 0, 0, 0, 0, 0, 0, 0, '4 | 4.91', 0, 0, 0, 0, 0, '7 | 6.73',\n",
       "        '4 | 5.85', 0, 0, 0, 0],\n",
       "       [0, 0, 0, 0, 0, 0, '7 | 7.65', 0, 0, 0, '4 | 2.55', 0, 0,\n",
       "        '4 | 6.64', 0, 0, '4 | 6.08', 0, 0, 0],\n",
       "       [0, 0, 0, 0, 0, 0, 0, 0, 0, 0, 0, 0, 0, 0, 0, 0, 0, 0, 0, 0],\n",
       "       [0, 0, 0, '3 | 6.11', 0, 0, 0, 0, 0, 0, 0, 0, 0, 0, 0, '7 | 5.78',\n",
       "        0, 0, 0, 0],\n",
       "       [0, 0, 0, 0, 0, 0, 0, 0, 0, 0, 0, 0, 0, 0, 0, 0, 0, 0, 0,\n",
       "        '7 | 3.31'],\n",
       "       [0, 0, 0, 0, '7 | 4.39', 0, 0, 0, 0, 0, 0, 0, '6 | 7.33', 0, 0,\n",
       "        '4 | 6.4', 0, 0, 0, 0],\n",
       "       [0, 0, 0, 0, 0, 0, '7 | 6.22', 0, 0, 0, 0, 0, '7 | 6.62',\n",
       "        '4 | 6.71', 0, 0, 0, 0, 0, 0],\n",
       "       [0, 0, 0, 0, 0, 0, 0, 0, 0, 0, 0, 0, 0, 0, 0, 0, 0, 0, 0, 0],\n",
       "       [0, 0, 0, 0, 0, 0, 0, 0, 0, 0, 0, 0, 0, 0, 0, '7 | 3.05', 0, 0, 0,\n",
       "        0],\n",
       "       [0, 0, '7 | 4.84', 0, 0, 0, 0, 0, '4 | 1.79', 0, 0, 0, 0, 0, 0, 0,\n",
       "        0, 0, 0, 0]], dtype=object)"
      ]
     },
     "execution_count": 78,
     "metadata": {},
     "output_type": "execute_result"
    }
   ],
   "source": [
    "sgd_predictions_diff"
   ]
  },
  {
   "cell_type": "markdown",
   "metadata": {},
   "source": [
    "#### Observations: \n",
    "    * Here we have considered one of the random case of having more variance when compared to first considered data and MSE has been maximised but there may be many other cases where we can get more MSE.\n",
    "    * The smaller range in the data_diff i.e., range of ratings is more for two particular ratings and less for other 5 ratings makes raises the chance of randomly guessing the correct value at a given position in the matrix.\n",
    "    * The more variance indicating the more variation in user ratings given for a particular item given by users who are giving same rating for other items( but given different like 1 by user1 and 7 by user2 for same item). If we can consider the data in this way then we can get most maximised MSE.\n",
    "    * For experimenting purpose which will have higher MSE compared to first considered data is taken here and shown how MSE can be maximised by randomly selecting data distribution"
   ]
  },
  {
   "cell_type": "code",
   "execution_count": 80,
   "metadata": {},
   "outputs": [
    {
     "data": {
      "image/png": "[encoded data removed]",
      "text/plain": [
       "<Figure size 1080x720 with 2 Axes>"
      ]
     },
     "metadata": {
      "needs_background": "light"
     },
     "output_type": "display_data"
    }
   ],
   "source": [
    "%matplotlib inline\n",
    "plt.figure(figsize=(15,10))\n",
    "plt.imshow(data_diff)\n",
    "plt.xticks(range(len(data_diff[0])))\n",
    "plt.yticks(range(len(data_diff)))\n",
    "ax = plt.gca()\n",
    "ax.set_xticklabels(range(len(data_diff[0])))\n",
    "ax.set_yticklabels(range(len(data_diff)))\n",
    "plt.title(\"Distribution of Ratings In Data to get maximised MSE\")\n",
    "plt.colorbar();"
   ]
  },
  {
   "cell_type": "markdown",
   "metadata": {},
   "source": [
    "#### 4) Repeat #3 with the difference that now you use four latent factors. Use the same rating values as used in #3 above. Compare the predicted outcomes and the MSE values with those obtained in #3. Comment on any significant differences observed"
   ]
  },
  {
   "cell_type": "code",
   "execution_count": 86,
   "metadata": {},
   "outputs": [
    {
     "name": "stdout",
     "output_type": "stream",
     "text": [
      "Iteration:=1\n",
      "Train mse: 14.121328440438328\n",
      "Test  mse: 30.008752033818908\n",
      "Iteration:=5\n",
      "Train mse: 7.197768549810685\n",
      "Test  mse: 25.898101793434044\n",
      "Iteration:=50\n",
      "\tcurrent iteration:10\n",
      "\tcurrent iteration:20\n",
      "\tcurrent iteration:30\n",
      "\tcurrent iteration:40\n",
      "Train mse: 6.563872040029183\n",
      "Test  mse: 26.640509558479287\n",
      "Iteration:=100\n",
      "\tcurrent iteration:10\n",
      "\tcurrent iteration:20\n",
      "\tcurrent iteration:30\n",
      "\tcurrent iteration:40\n",
      "\tcurrent iteration:50\n",
      "Train mse: 6.558333353486387\n",
      "Test  mse: 26.68616918831395\n",
      "Iteration:=200\n",
      "\tcurrent iteration:10\n",
      "\tcurrent iteration:20\n",
      "\tcurrent iteration:30\n",
      "\tcurrent iteration:40\n",
      "\tcurrent iteration:50\n",
      "\tcurrent iteration:60\n",
      "\tcurrent iteration:70\n",
      "\tcurrent iteration:80\n",
      "\tcurrent iteration:90\n",
      "\tcurrent iteration:100\n",
      "Train mse: 6.557561177887836\n",
      "Test  mse: 26.69260718833511\n"
     ]
    }
   ],
   "source": [
    "MF_ALS_diff_4 = ExplicitMF(tr1_diff, 4, learning='als', verbose=True)\n",
    "iter_array1 = [1, 5, 50, 100, 200]\n",
    "MF_ALS_diff_4.calculate_learning_curve(iter_array1, ts1_diff, learning_rate=0.01)"
   ]
  },
  {
   "cell_type": "code",
   "execution_count": 82,
   "metadata": {},
   "outputs": [
    {
     "name": "stdout",
     "output_type": "stream",
     "text": [
      "TEST DATA (50 RATINGS) MSE 26.69194\n"
     ]
    }
   ],
   "source": [
    "list1_org=[]\n",
    "list2_pred=[]\n",
    "predictions_diff_4 = np.zeros((len(ts1_diff), len(ts1_diff[0])),dtype=object)\n",
    "ts1_diff_pred=ts1_diff.copy();\n",
    "for u in range(len(ts1_diff)):\n",
    "    for i in range(len(ts1_diff[0])):\n",
    "        if ts1_diff[u][i]!=0:\n",
    "            list1_org.append(round(MF_ALS_diff_4.predict(u,i),2))\n",
    "            list2_pred.append(ts1_diff[u][i])\n",
    "            predictions_diff_4[u][i]=str(ts1_diff[u][i])+' | '+str(round(MF_ALS_diff_4.predict(u,i),2))\n",
    "print(\"TEST DATA (50 RATINGS) MSE \"+str(mean_squared_error(list2_pred,list1_org)))"
   ]
  },
  {
   "cell_type": "markdown",
   "metadata": {},
   "source": [
    "#### Observations:\n",
    "        * Here I have observed that while increasing the latent features using ALS method, the MSE has been increased for same data. But using SGD, there is improvement in MSE i.e., mse has been decreased.\n",
    "        * In the models (Like ALS) fitted on the small dataset the RMSE converges towards a fixed point as rank (Latent features) increases. The training time increases exponentially together with increased rank.\n",
    "        * A lower regularization hyperparameter would bring the prediction accuracy to a lower error for a lower rank which is observed.\n",
    "        * Here clearly mse has been increased for our data distribution indicating that accuracy is decreased with increase of rank/latent can be understood that it is due overfitting."
   ]
  },
  {
   "cell_type": "code",
   "execution_count": 83,
   "metadata": {},
   "outputs": [
    {
     "name": "stdout",
     "output_type": "stream",
     "text": [
      "Iteration:=1\n",
      "Train mse: 2.77255911429617\n",
      "Test  mse: 2.5938338994250913\n",
      "Iteration:=5\n",
      "Train mse: 2.406851178803119\n",
      "Test  mse: 2.590133308754732\n",
      "Iteration:=50\n",
      "\tcurrent iteration:10\n",
      "\tcurrent iteration:20\n",
      "\tcurrent iteration:30\n",
      "\tcurrent iteration:40\n",
      "Train mse: 0.4929000458553524\n",
      "Test  mse: 3.9395923003121367\n",
      "Iteration:=100\n",
      "\tcurrent iteration:10\n",
      "\tcurrent iteration:20\n",
      "\tcurrent iteration:30\n",
      "\tcurrent iteration:40\n",
      "\tcurrent iteration:50\n",
      "Train mse: 0.12744352389415836\n",
      "Test  mse: 5.052623747293263\n",
      "Iteration:=200\n",
      "\tcurrent iteration:10\n",
      "\tcurrent iteration:20\n",
      "\tcurrent iteration:30\n",
      "\tcurrent iteration:40\n",
      "\tcurrent iteration:50\n",
      "\tcurrent iteration:60\n",
      "\tcurrent iteration:70\n",
      "\tcurrent iteration:80\n",
      "\tcurrent iteration:90\n",
      "\tcurrent iteration:100\n",
      "Train mse: 0.020419337491665565\n",
      "Test  mse: 6.032602849472082\n"
     ]
    }
   ],
   "source": [
    "MF_SGD_diff_4 = ExplicitMF(tr1_diff, 4, learning='sgd', verbose=True)\n",
    "iter_array1 = [1, 5, 50, 100, 200]\n",
    "MF_SGD_diff_4.calculate_learning_curve(iter_array1, ts1_diff, learning_rate=0.01)"
   ]
  },
  {
   "cell_type": "code",
   "execution_count": 85,
   "metadata": {},
   "outputs": [
    {
     "name": "stdout",
     "output_type": "stream",
     "text": [
      "TEST DATA (50 RATINGS) MSE 6.03285\n"
     ]
    }
   ],
   "source": [
    "list1_org=[]\n",
    "list2_pred=[]\n",
    "sgd_predictions_diff_4 = np.zeros((len(ts1_diff), len(ts1_diff[0])),dtype=object)\n",
    "ts1_diff_pred=ts1_diff.copy();\n",
    "for u in range(len(ts1_diff)):\n",
    "    for i in range(len(ts1_diff[0])):\n",
    "        if ts1_diff[u][i]!=0:\n",
    "            list1_org.append(round(MF_SGD_diff_4.predict(u,i),2))\n",
    "            list2_pred.append(ts1_diff[u][i])\n",
    "            sgd_predictions_diff_4[u][i]=str(ts1_diff[u][i])+' | '+str(round(MF_SGD_diff_4.predict(u,i),2))\n",
    "print(\"TEST DATA (50 RATINGS) MSE \"+str(mean_squared_error(list2_pred,list1_org)))"
   ]
  },
  {
   "cell_type": "markdown",
   "metadata": {},
   "source": [
    "#### Observation:\n",
    "    *  Here I have observed that SGD tends to overfit more than ALS and is more susceptible to popularity bias as mse for 4 latents features using sgd is decreased compared with sgd of 2 latent features."
   ]
  }
 ],
 "metadata": {
  "kernelspec": {
   "display_name": "Python 3",
   "language": "python",
   "name": "python3"
  },
  "language_info": {
   "codemirror_mode": {
    "name": "ipython",
    "version": 3
   },
   "file_extension": ".py",
   "mimetype": "text/x-python",
   "name": "python",
   "nbconvert_exporter": "python",
   "pygments_lexer": "ipython3",
   "version": "3.6.7"
  }
 },
 "nbformat": 4,
 "nbformat_minor": 2
}
